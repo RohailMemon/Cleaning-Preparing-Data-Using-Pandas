{
 "cells": [
  {
   "cell_type": "code",
   "execution_count": 59,
   "id": "ba55c84d",
   "metadata": {},
   "outputs": [],
   "source": [
    "file = \"modern_arts.csv\""
   ]
  },
  {
   "cell_type": "code",
   "execution_count": 60,
   "id": "e99a9c10",
   "metadata": {},
   "outputs": [],
   "source": [
    "import pandas as pd"
   ]
  },
  {
   "cell_type": "code",
   "execution_count": 61,
   "id": "64936c26",
   "metadata": {},
   "outputs": [],
   "source": [
    "arts = pd.read_csv(file)"
   ]
  },
  {
   "cell_type": "code",
   "execution_count": 62,
   "id": "7f7054ac",
   "metadata": {},
   "outputs": [
    {
     "data": {
      "text/html": [
       "<div>\n",
       "<style scoped>\n",
       "    .dataframe tbody tr th:only-of-type {\n",
       "        vertical-align: middle;\n",
       "    }\n",
       "\n",
       "    .dataframe tbody tr th {\n",
       "        vertical-align: top;\n",
       "    }\n",
       "\n",
       "    .dataframe thead th {\n",
       "        text-align: right;\n",
       "    }\n",
       "</style>\n",
       "<table border=\"1\" class=\"dataframe\">\n",
       "  <thead>\n",
       "    <tr style=\"text-align: right;\">\n",
       "      <th></th>\n",
       "      <th>Title</th>\n",
       "      <th>Artist</th>\n",
       "      <th>Nationality</th>\n",
       "      <th>BeginDate</th>\n",
       "      <th>EndDate</th>\n",
       "      <th>Gender</th>\n",
       "      <th>Date</th>\n",
       "      <th>Department</th>\n",
       "    </tr>\n",
       "  </thead>\n",
       "  <tbody>\n",
       "    <tr>\n",
       "      <th>0</th>\n",
       "      <td>Dress MacLeod from Tartan Sets</td>\n",
       "      <td>Sarah Charlesworth</td>\n",
       "      <td>(American)</td>\n",
       "      <td>(1947)</td>\n",
       "      <td>(2013)</td>\n",
       "      <td>(Female)</td>\n",
       "      <td>1986</td>\n",
       "      <td>Prints &amp; Illustrated Books</td>\n",
       "    </tr>\n",
       "    <tr>\n",
       "      <th>1</th>\n",
       "      <td>Duplicate of plate from folio 11 verso (supple...</td>\n",
       "      <td>Pablo Palazuelo</td>\n",
       "      <td>(Spanish)</td>\n",
       "      <td>(1916)</td>\n",
       "      <td>(2007)</td>\n",
       "      <td>(Male)</td>\n",
       "      <td>1978</td>\n",
       "      <td>Prints &amp; Illustrated Books</td>\n",
       "    </tr>\n",
       "    <tr>\n",
       "      <th>2</th>\n",
       "      <td>Tailpiece (page 55) from SAGESSE</td>\n",
       "      <td>Maurice Denis</td>\n",
       "      <td>(French)</td>\n",
       "      <td>(1870)</td>\n",
       "      <td>(1943)</td>\n",
       "      <td>(Male)</td>\n",
       "      <td>1889-1911</td>\n",
       "      <td>Prints &amp; Illustrated Books</td>\n",
       "    </tr>\n",
       "    <tr>\n",
       "      <th>3</th>\n",
       "      <td>Headpiece (page 129) from LIVRET DE FOLASTRIES...</td>\n",
       "      <td>Aristide Maillol</td>\n",
       "      <td>(French)</td>\n",
       "      <td>(1861)</td>\n",
       "      <td>(1944)</td>\n",
       "      <td>(Male)</td>\n",
       "      <td>1927-1940</td>\n",
       "      <td>Prints &amp; Illustrated Books</td>\n",
       "    </tr>\n",
       "    <tr>\n",
       "      <th>4</th>\n",
       "      <td>97 rue du Bac</td>\n",
       "      <td>Eugène Atget</td>\n",
       "      <td>(French)</td>\n",
       "      <td>(1857)</td>\n",
       "      <td>(1927)</td>\n",
       "      <td>(Male)</td>\n",
       "      <td>1903</td>\n",
       "      <td>Photography</td>\n",
       "    </tr>\n",
       "  </tbody>\n",
       "</table>\n",
       "</div>"
      ],
      "text/plain": [
       "                                               Title              Artist  \\\n",
       "0                     Dress MacLeod from Tartan Sets  Sarah Charlesworth   \n",
       "1  Duplicate of plate from folio 11 verso (supple...     Pablo Palazuelo   \n",
       "2                   Tailpiece (page 55) from SAGESSE       Maurice Denis   \n",
       "3  Headpiece (page 129) from LIVRET DE FOLASTRIES...    Aristide Maillol   \n",
       "4                                      97 rue du Bac        Eugène Atget   \n",
       "\n",
       "  Nationality BeginDate EndDate    Gender       Date  \\\n",
       "0  (American)    (1947)  (2013)  (Female)       1986   \n",
       "1   (Spanish)    (1916)  (2007)    (Male)       1978   \n",
       "2    (French)    (1870)  (1943)    (Male)  1889-1911   \n",
       "3    (French)    (1861)  (1944)    (Male)  1927-1940   \n",
       "4    (French)    (1857)  (1927)    (Male)       1903   \n",
       "\n",
       "                   Department  \n",
       "0  Prints & Illustrated Books  \n",
       "1  Prints & Illustrated Books  \n",
       "2  Prints & Illustrated Books  \n",
       "3  Prints & Illustrated Books  \n",
       "4                 Photography  "
      ]
     },
     "execution_count": 62,
     "metadata": {},
     "output_type": "execute_result"
    }
   ],
   "source": [
    "arts.head()"
   ]
  },
  {
   "cell_type": "code",
   "execution_count": 63,
   "id": "77bcd0e7",
   "metadata": {},
   "outputs": [
    {
     "data": {
      "text/plain": [
       "0        (Female)\n",
       "1          (Male)\n",
       "2          (Male)\n",
       "3          (Male)\n",
       "4          (Male)\n",
       "           ...   \n",
       "16720      (Male)\n",
       "16721      (Male)\n",
       "16722      (Male)\n",
       "16723          ()\n",
       "16724      (Male)\n",
       "Name: Gender, Length: 16725, dtype: object"
      ]
     },
     "execution_count": 63,
     "metadata": {},
     "output_type": "execute_result"
    }
   ],
   "source": [
    "arts[\"Gender\"]"
   ]
  },
  {
   "cell_type": "code",
   "execution_count": 64,
   "id": "ed468e6f",
   "metadata": {},
   "outputs": [
    {
     "name": "stderr",
     "output_type": "stream",
     "text": [
      "C:\\Users\\rohai\\AppData\\Local\\Temp\\ipykernel_35868\\1182341301.py:1: FutureWarning: The default value of regex will change from True to False in a future version. In addition, single character regular expressions will *not* be treated as literal strings when regex=True.\n",
      "  arts[\"Gender\"].str.replace(\"(\",\"\").str.replace(\")\",\"\")\n"
     ]
    },
    {
     "data": {
      "text/plain": [
       "0        Female\n",
       "1          Male\n",
       "2          Male\n",
       "3          Male\n",
       "4          Male\n",
       "          ...  \n",
       "16720      Male\n",
       "16721      Male\n",
       "16722      Male\n",
       "16723          \n",
       "16724      Male\n",
       "Name: Gender, Length: 16725, dtype: object"
      ]
     },
     "execution_count": 64,
     "metadata": {},
     "output_type": "execute_result"
    }
   ],
   "source": [
    "arts[\"Gender\"].str.replace(\"(\",\"\").str.replace(\")\",\"\")"
   ]
  },
  {
   "cell_type": "code",
   "execution_count": 65,
   "id": "0807fe06",
   "metadata": {},
   "outputs": [
    {
     "name": "stderr",
     "output_type": "stream",
     "text": [
      "C:\\Users\\rohai\\AppData\\Local\\Temp\\ipykernel_35868\\2562825621.py:1: FutureWarning: The default value of regex will change from True to False in a future version. In addition, single character regular expressions will *not* be treated as literal strings when regex=True.\n",
      "  arts[\"Gender\"] = arts[\"Gender\"].str.replace(\"(\",\"\").str.replace(\")\",\"\")\n"
     ]
    }
   ],
   "source": [
    "arts[\"Gender\"] = arts[\"Gender\"].str.replace(\"(\",\"\").str.replace(\")\",\"\")"
   ]
  },
  {
   "cell_type": "code",
   "execution_count": 66,
   "id": "0fd5a76f",
   "metadata": {},
   "outputs": [
    {
     "data": {
      "text/plain": [
       "array(['Female', 'Male', '', 'male'], dtype=object)"
      ]
     },
     "execution_count": 66,
     "metadata": {},
     "output_type": "execute_result"
    }
   ],
   "source": [
    "arts[\"Gender\"].unique()"
   ]
  },
  {
   "cell_type": "code",
   "execution_count": 67,
   "id": "ba52ce38",
   "metadata": {},
   "outputs": [
    {
     "data": {
      "text/plain": [
       "0        Female\n",
       "1          Male\n",
       "2          Male\n",
       "3          Male\n",
       "4          Male\n",
       "          ...  \n",
       "16720      Male\n",
       "16721      Male\n",
       "16722      Male\n",
       "16723          \n",
       "16724      Male\n",
       "Name: Gender, Length: 16725, dtype: object"
      ]
     },
     "execution_count": 67,
     "metadata": {},
     "output_type": "execute_result"
    }
   ],
   "source": [
    "arts[\"Gender\"].str.title()"
   ]
  },
  {
   "cell_type": "code",
   "execution_count": 68,
   "id": "1f16bcec",
   "metadata": {},
   "outputs": [],
   "source": [
    "arts[\"Gender\"] = arts[\"Gender\"].str.title()"
   ]
  },
  {
   "cell_type": "code",
   "execution_count": 69,
   "id": "c1568399",
   "metadata": {},
   "outputs": [
    {
     "data": {
      "text/html": [
       "<div>\n",
       "<style scoped>\n",
       "    .dataframe tbody tr th:only-of-type {\n",
       "        vertical-align: middle;\n",
       "    }\n",
       "\n",
       "    .dataframe tbody tr th {\n",
       "        vertical-align: top;\n",
       "    }\n",
       "\n",
       "    .dataframe thead th {\n",
       "        text-align: right;\n",
       "    }\n",
       "</style>\n",
       "<table border=\"1\" class=\"dataframe\">\n",
       "  <thead>\n",
       "    <tr style=\"text-align: right;\">\n",
       "      <th></th>\n",
       "      <th>Title</th>\n",
       "      <th>Artist</th>\n",
       "      <th>Nationality</th>\n",
       "      <th>BeginDate</th>\n",
       "      <th>EndDate</th>\n",
       "      <th>Gender</th>\n",
       "      <th>Date</th>\n",
       "      <th>Department</th>\n",
       "    </tr>\n",
       "  </thead>\n",
       "  <tbody>\n",
       "    <tr>\n",
       "      <th>0</th>\n",
       "      <td>Dress MacLeod from Tartan Sets</td>\n",
       "      <td>Sarah Charlesworth</td>\n",
       "      <td>(American)</td>\n",
       "      <td>(1947)</td>\n",
       "      <td>(2013)</td>\n",
       "      <td>Female</td>\n",
       "      <td>1986</td>\n",
       "      <td>Prints &amp; Illustrated Books</td>\n",
       "    </tr>\n",
       "    <tr>\n",
       "      <th>1</th>\n",
       "      <td>Duplicate of plate from folio 11 verso (supple...</td>\n",
       "      <td>Pablo Palazuelo</td>\n",
       "      <td>(Spanish)</td>\n",
       "      <td>(1916)</td>\n",
       "      <td>(2007)</td>\n",
       "      <td>Male</td>\n",
       "      <td>1978</td>\n",
       "      <td>Prints &amp; Illustrated Books</td>\n",
       "    </tr>\n",
       "    <tr>\n",
       "      <th>2</th>\n",
       "      <td>Tailpiece (page 55) from SAGESSE</td>\n",
       "      <td>Maurice Denis</td>\n",
       "      <td>(French)</td>\n",
       "      <td>(1870)</td>\n",
       "      <td>(1943)</td>\n",
       "      <td>Male</td>\n",
       "      <td>1889-1911</td>\n",
       "      <td>Prints &amp; Illustrated Books</td>\n",
       "    </tr>\n",
       "    <tr>\n",
       "      <th>3</th>\n",
       "      <td>Headpiece (page 129) from LIVRET DE FOLASTRIES...</td>\n",
       "      <td>Aristide Maillol</td>\n",
       "      <td>(French)</td>\n",
       "      <td>(1861)</td>\n",
       "      <td>(1944)</td>\n",
       "      <td>Male</td>\n",
       "      <td>1927-1940</td>\n",
       "      <td>Prints &amp; Illustrated Books</td>\n",
       "    </tr>\n",
       "    <tr>\n",
       "      <th>4</th>\n",
       "      <td>97 rue du Bac</td>\n",
       "      <td>Eugène Atget</td>\n",
       "      <td>(French)</td>\n",
       "      <td>(1857)</td>\n",
       "      <td>(1927)</td>\n",
       "      <td>Male</td>\n",
       "      <td>1903</td>\n",
       "      <td>Photography</td>\n",
       "    </tr>\n",
       "  </tbody>\n",
       "</table>\n",
       "</div>"
      ],
      "text/plain": [
       "                                               Title              Artist  \\\n",
       "0                     Dress MacLeod from Tartan Sets  Sarah Charlesworth   \n",
       "1  Duplicate of plate from folio 11 verso (supple...     Pablo Palazuelo   \n",
       "2                   Tailpiece (page 55) from SAGESSE       Maurice Denis   \n",
       "3  Headpiece (page 129) from LIVRET DE FOLASTRIES...    Aristide Maillol   \n",
       "4                                      97 rue du Bac        Eugène Atget   \n",
       "\n",
       "  Nationality BeginDate EndDate  Gender       Date                  Department  \n",
       "0  (American)    (1947)  (2013)  Female       1986  Prints & Illustrated Books  \n",
       "1   (Spanish)    (1916)  (2007)    Male       1978  Prints & Illustrated Books  \n",
       "2    (French)    (1870)  (1943)    Male  1889-1911  Prints & Illustrated Books  \n",
       "3    (French)    (1861)  (1944)    Male  1927-1940  Prints & Illustrated Books  \n",
       "4    (French)    (1857)  (1927)    Male       1903                 Photography  "
      ]
     },
     "execution_count": 69,
     "metadata": {},
     "output_type": "execute_result"
    }
   ],
   "source": [
    "arts.head()"
   ]
  },
  {
   "cell_type": "code",
   "execution_count": 70,
   "id": "61825de7",
   "metadata": {},
   "outputs": [
    {
     "data": {
      "text/plain": [
       "array(['Female', 'Male', ''], dtype=object)"
      ]
     },
     "execution_count": 70,
     "metadata": {},
     "output_type": "execute_result"
    }
   ],
   "source": [
    "arts[\"Gender\"].unique()"
   ]
  },
  {
   "cell_type": "code",
   "execution_count": 71,
   "id": "2dae34d2",
   "metadata": {},
   "outputs": [],
   "source": [
    "bol = arts[\"Gender\"] == ''"
   ]
  },
  {
   "cell_type": "code",
   "execution_count": 72,
   "id": "b0ed9731",
   "metadata": {},
   "outputs": [
    {
     "data": {
      "text/plain": [
       "0        False\n",
       "1        False\n",
       "2        False\n",
       "3        False\n",
       "4        False\n",
       "         ...  \n",
       "16720    False\n",
       "16721    False\n",
       "16722    False\n",
       "16723     True\n",
       "16724    False\n",
       "Name: Gender, Length: 16725, dtype: bool"
      ]
     },
     "execution_count": 72,
     "metadata": {},
     "output_type": "execute_result"
    }
   ],
   "source": [
    "bol"
   ]
  },
  {
   "cell_type": "code",
   "execution_count": 73,
   "id": "660f0034",
   "metadata": {},
   "outputs": [
    {
     "data": {
      "text/plain": [
       "791"
      ]
     },
     "execution_count": 73,
     "metadata": {},
     "output_type": "execute_result"
    }
   ],
   "source": [
    "bol.sum()"
   ]
  },
  {
   "cell_type": "code",
   "execution_count": 74,
   "id": "25cb9007",
   "metadata": {},
   "outputs": [
    {
     "data": {
      "text/html": [
       "<div>\n",
       "<style scoped>\n",
       "    .dataframe tbody tr th:only-of-type {\n",
       "        vertical-align: middle;\n",
       "    }\n",
       "\n",
       "    .dataframe tbody tr th {\n",
       "        vertical-align: top;\n",
       "    }\n",
       "\n",
       "    .dataframe thead th {\n",
       "        text-align: right;\n",
       "    }\n",
       "</style>\n",
       "<table border=\"1\" class=\"dataframe\">\n",
       "  <thead>\n",
       "    <tr style=\"text-align: right;\">\n",
       "      <th></th>\n",
       "      <th>Title</th>\n",
       "      <th>Artist</th>\n",
       "      <th>Nationality</th>\n",
       "      <th>BeginDate</th>\n",
       "      <th>EndDate</th>\n",
       "      <th>Gender</th>\n",
       "      <th>Date</th>\n",
       "      <th>Department</th>\n",
       "    </tr>\n",
       "  </thead>\n",
       "  <tbody>\n",
       "    <tr>\n",
       "      <th>31</th>\n",
       "      <td>Untitled</td>\n",
       "      <td>Unknown</td>\n",
       "      <td>()</td>\n",
       "      <td>NaN</td>\n",
       "      <td>NaN</td>\n",
       "      <td></td>\n",
       "      <td>c. 1925</td>\n",
       "      <td>Photography</td>\n",
       "    </tr>\n",
       "    <tr>\n",
       "      <th>90</th>\n",
       "      <td>Bar Tools</td>\n",
       "      <td>Studio Opi</td>\n",
       "      <td>(Italian)</td>\n",
       "      <td>(1955)</td>\n",
       "      <td>NaN</td>\n",
       "      <td></td>\n",
       "      <td>1969</td>\n",
       "      <td>Architecture &amp; Design</td>\n",
       "    </tr>\n",
       "    <tr>\n",
       "      <th>137</th>\n",
       "      <td>Nations</td>\n",
       "      <td>Slavs and Tatars</td>\n",
       "      <td>()</td>\n",
       "      <td>(2005)</td>\n",
       "      <td>NaN</td>\n",
       "      <td></td>\n",
       "      <td>2007</td>\n",
       "      <td>Prints &amp; Illustrated Books</td>\n",
       "    </tr>\n",
       "    <tr>\n",
       "      <th>177</th>\n",
       "      <td>El Frente Popular de Madrid Al Frente Popular ...</td>\n",
       "      <td>J. Briones</td>\n",
       "      <td>(Spanish)</td>\n",
       "      <td>NaN</td>\n",
       "      <td>NaN</td>\n",
       "      <td></td>\n",
       "      <td>1936-1937</td>\n",
       "      <td>Architecture &amp; Design</td>\n",
       "    </tr>\n",
       "    <tr>\n",
       "      <th>185</th>\n",
       "      <td>Untitled</td>\n",
       "      <td>Unknown</td>\n",
       "      <td>()</td>\n",
       "      <td>NaN</td>\n",
       "      <td>NaN</td>\n",
       "      <td></td>\n",
       "      <td>1923-1951</td>\n",
       "      <td>Photography</td>\n",
       "    </tr>\n",
       "    <tr>\n",
       "      <th>...</th>\n",
       "      <td>...</td>\n",
       "      <td>...</td>\n",
       "      <td>...</td>\n",
       "      <td>...</td>\n",
       "      <td>...</td>\n",
       "      <td>...</td>\n",
       "      <td>...</td>\n",
       "      <td>...</td>\n",
       "    </tr>\n",
       "    <tr>\n",
       "      <th>16664</th>\n",
       "      <td>Untitled</td>\n",
       "      <td>Unknown</td>\n",
       "      <td>()</td>\n",
       "      <td>NaN</td>\n",
       "      <td>NaN</td>\n",
       "      <td></td>\n",
       "      <td>c. 1960</td>\n",
       "      <td>Photography</td>\n",
       "    </tr>\n",
       "    <tr>\n",
       "      <th>16670</th>\n",
       "      <td>Inflatable Armchair</td>\n",
       "      <td>Quasar (Nguyen Manh Khanh)</td>\n",
       "      <td>(Vietnamese)</td>\n",
       "      <td>(1934)</td>\n",
       "      <td>NaN</td>\n",
       "      <td></td>\n",
       "      <td>1967-1968</td>\n",
       "      <td>Architecture &amp; Design</td>\n",
       "    </tr>\n",
       "    <tr>\n",
       "      <th>16688</th>\n",
       "      <td>Poster of the French National Railroad</td>\n",
       "      <td>Album-miscellaneous</td>\n",
       "      <td>(Various)</td>\n",
       "      <td>NaN</td>\n",
       "      <td>NaN</td>\n",
       "      <td></td>\n",
       "      <td>1900-1943</td>\n",
       "      <td>Architecture &amp; Design</td>\n",
       "    </tr>\n",
       "    <tr>\n",
       "      <th>16702</th>\n",
       "      <td>Salon de la Plume</td>\n",
       "      <td>Unknown</td>\n",
       "      <td>(Nationality Unknown)</td>\n",
       "      <td>NaN</td>\n",
       "      <td>NaN</td>\n",
       "      <td></td>\n",
       "      <td>1880-1910</td>\n",
       "      <td>Architecture &amp; Design</td>\n",
       "    </tr>\n",
       "    <tr>\n",
       "      <th>16723</th>\n",
       "      <td>Dognat' i peregnat' v tekhniko-ekonomicheskom ...</td>\n",
       "      <td>Unknown</td>\n",
       "      <td>()</td>\n",
       "      <td>NaN</td>\n",
       "      <td>NaN</td>\n",
       "      <td></td>\n",
       "      <td>1931</td>\n",
       "      <td>Prints &amp; Illustrated Books</td>\n",
       "    </tr>\n",
       "  </tbody>\n",
       "</table>\n",
       "<p>791 rows × 8 columns</p>\n",
       "</div>"
      ],
      "text/plain": [
       "                                                   Title  \\\n",
       "31                                              Untitled   \n",
       "90                                             Bar Tools   \n",
       "137                                              Nations   \n",
       "177    El Frente Popular de Madrid Al Frente Popular ...   \n",
       "185                                             Untitled   \n",
       "...                                                  ...   \n",
       "16664                                           Untitled   \n",
       "16670                                Inflatable Armchair   \n",
       "16688             Poster of the French National Railroad   \n",
       "16702                                  Salon de la Plume   \n",
       "16723  Dognat' i peregnat' v tekhniko-ekonomicheskom ...   \n",
       "\n",
       "                           Artist            Nationality BeginDate EndDate  \\\n",
       "31                        Unknown                     ()       NaN     NaN   \n",
       "90                     Studio Opi              (Italian)    (1955)     NaN   \n",
       "137              Slavs and Tatars                     ()    (2005)     NaN   \n",
       "177                    J. Briones              (Spanish)       NaN     NaN   \n",
       "185                       Unknown                     ()       NaN     NaN   \n",
       "...                           ...                    ...       ...     ...   \n",
       "16664                     Unknown                     ()       NaN     NaN   \n",
       "16670  Quasar (Nguyen Manh Khanh)           (Vietnamese)    (1934)     NaN   \n",
       "16688         Album-miscellaneous              (Various)       NaN     NaN   \n",
       "16702                     Unknown  (Nationality Unknown)       NaN     NaN   \n",
       "16723                     Unknown                     ()       NaN     NaN   \n",
       "\n",
       "      Gender       Date                  Department  \n",
       "31              c. 1925                 Photography  \n",
       "90                 1969       Architecture & Design  \n",
       "137                2007  Prints & Illustrated Books  \n",
       "177           1936-1937       Architecture & Design  \n",
       "185           1923-1951                 Photography  \n",
       "...      ...        ...                         ...  \n",
       "16664           c. 1960                 Photography  \n",
       "16670         1967-1968       Architecture & Design  \n",
       "16688         1900-1943       Architecture & Design  \n",
       "16702         1880-1910       Architecture & Design  \n",
       "16723              1931  Prints & Illustrated Books  \n",
       "\n",
       "[791 rows x 8 columns]"
      ]
     },
     "execution_count": 74,
     "metadata": {},
     "output_type": "execute_result"
    }
   ],
   "source": [
    "arts[bol] #boolean indexing"
   ]
  },
  {
   "cell_type": "code",
   "execution_count": 75,
   "id": "8164742e",
   "metadata": {},
   "outputs": [],
   "source": [
    "arts.loc[bol,\"Gender\"] = \"Gender Unknown\""
   ]
  },
  {
   "cell_type": "code",
   "execution_count": 76,
   "id": "eec44d22",
   "metadata": {},
   "outputs": [
    {
     "data": {
      "text/plain": [
       "array(['Female', 'Male', 'Gender Unknown'], dtype=object)"
      ]
     },
     "execution_count": 76,
     "metadata": {},
     "output_type": "execute_result"
    }
   ],
   "source": [
    "arts[\"Gender\"].unique()"
   ]
  },
  {
   "cell_type": "code",
   "execution_count": 77,
   "id": "c6bb30df",
   "metadata": {},
   "outputs": [
    {
     "data": {
      "text/html": [
       "<div>\n",
       "<style scoped>\n",
       "    .dataframe tbody tr th:only-of-type {\n",
       "        vertical-align: middle;\n",
       "    }\n",
       "\n",
       "    .dataframe tbody tr th {\n",
       "        vertical-align: top;\n",
       "    }\n",
       "\n",
       "    .dataframe thead th {\n",
       "        text-align: right;\n",
       "    }\n",
       "</style>\n",
       "<table border=\"1\" class=\"dataframe\">\n",
       "  <thead>\n",
       "    <tr style=\"text-align: right;\">\n",
       "      <th></th>\n",
       "      <th>Title</th>\n",
       "      <th>Artist</th>\n",
       "      <th>Nationality</th>\n",
       "      <th>BeginDate</th>\n",
       "      <th>EndDate</th>\n",
       "      <th>Gender</th>\n",
       "      <th>Date</th>\n",
       "      <th>Department</th>\n",
       "    </tr>\n",
       "  </thead>\n",
       "  <tbody>\n",
       "    <tr>\n",
       "      <th>0</th>\n",
       "      <td>Dress MacLeod from Tartan Sets</td>\n",
       "      <td>Sarah Charlesworth</td>\n",
       "      <td>(American)</td>\n",
       "      <td>(1947)</td>\n",
       "      <td>(2013)</td>\n",
       "      <td>Female</td>\n",
       "      <td>1986</td>\n",
       "      <td>Prints &amp; Illustrated Books</td>\n",
       "    </tr>\n",
       "    <tr>\n",
       "      <th>1</th>\n",
       "      <td>Duplicate of plate from folio 11 verso (supple...</td>\n",
       "      <td>Pablo Palazuelo</td>\n",
       "      <td>(Spanish)</td>\n",
       "      <td>(1916)</td>\n",
       "      <td>(2007)</td>\n",
       "      <td>Male</td>\n",
       "      <td>1978</td>\n",
       "      <td>Prints &amp; Illustrated Books</td>\n",
       "    </tr>\n",
       "    <tr>\n",
       "      <th>2</th>\n",
       "      <td>Tailpiece (page 55) from SAGESSE</td>\n",
       "      <td>Maurice Denis</td>\n",
       "      <td>(French)</td>\n",
       "      <td>(1870)</td>\n",
       "      <td>(1943)</td>\n",
       "      <td>Male</td>\n",
       "      <td>1889-1911</td>\n",
       "      <td>Prints &amp; Illustrated Books</td>\n",
       "    </tr>\n",
       "    <tr>\n",
       "      <th>3</th>\n",
       "      <td>Headpiece (page 129) from LIVRET DE FOLASTRIES...</td>\n",
       "      <td>Aristide Maillol</td>\n",
       "      <td>(French)</td>\n",
       "      <td>(1861)</td>\n",
       "      <td>(1944)</td>\n",
       "      <td>Male</td>\n",
       "      <td>1927-1940</td>\n",
       "      <td>Prints &amp; Illustrated Books</td>\n",
       "    </tr>\n",
       "    <tr>\n",
       "      <th>4</th>\n",
       "      <td>97 rue du Bac</td>\n",
       "      <td>Eugène Atget</td>\n",
       "      <td>(French)</td>\n",
       "      <td>(1857)</td>\n",
       "      <td>(1927)</td>\n",
       "      <td>Male</td>\n",
       "      <td>1903</td>\n",
       "      <td>Photography</td>\n",
       "    </tr>\n",
       "    <tr>\n",
       "      <th>...</th>\n",
       "      <td>...</td>\n",
       "      <td>...</td>\n",
       "      <td>...</td>\n",
       "      <td>...</td>\n",
       "      <td>...</td>\n",
       "      <td>...</td>\n",
       "      <td>...</td>\n",
       "      <td>...</td>\n",
       "    </tr>\n",
       "    <tr>\n",
       "      <th>16720</th>\n",
       "      <td>Oval with Points</td>\n",
       "      <td>Henry Moore</td>\n",
       "      <td>(British)</td>\n",
       "      <td>(1898)</td>\n",
       "      <td>(1986)</td>\n",
       "      <td>Male</td>\n",
       "      <td>1968-1969</td>\n",
       "      <td>Painting &amp; Sculpture</td>\n",
       "    </tr>\n",
       "    <tr>\n",
       "      <th>16721</th>\n",
       "      <td>Cementerio de la Ciudad Abierta, Ritoque, Chile</td>\n",
       "      <td>Juan Baixas</td>\n",
       "      <td>(Chilean)</td>\n",
       "      <td>(1942)</td>\n",
       "      <td>NaN</td>\n",
       "      <td>Male</td>\n",
       "      <td>1975</td>\n",
       "      <td>Architecture &amp; Design</td>\n",
       "    </tr>\n",
       "    <tr>\n",
       "      <th>16722</th>\n",
       "      <td>The Catboat</td>\n",
       "      <td>Edward Hopper</td>\n",
       "      <td>(American)</td>\n",
       "      <td>(1882)</td>\n",
       "      <td>(1967)</td>\n",
       "      <td>Male</td>\n",
       "      <td>1922</td>\n",
       "      <td>Prints &amp; Illustrated Books</td>\n",
       "    </tr>\n",
       "    <tr>\n",
       "      <th>16723</th>\n",
       "      <td>Dognat' i peregnat' v tekhniko-ekonomicheskom ...</td>\n",
       "      <td>Unknown</td>\n",
       "      <td>()</td>\n",
       "      <td>NaN</td>\n",
       "      <td>NaN</td>\n",
       "      <td>Gender Unknown</td>\n",
       "      <td>1931</td>\n",
       "      <td>Prints &amp; Illustrated Books</td>\n",
       "    </tr>\n",
       "    <tr>\n",
       "      <th>16724</th>\n",
       "      <td>Plate (page 11) from The Dive</td>\n",
       "      <td>Alex Katz</td>\n",
       "      <td>(American)</td>\n",
       "      <td>(1927)</td>\n",
       "      <td>NaN</td>\n",
       "      <td>Male</td>\n",
       "      <td>2011</td>\n",
       "      <td>Prints &amp; Illustrated Books</td>\n",
       "    </tr>\n",
       "  </tbody>\n",
       "</table>\n",
       "<p>16725 rows × 8 columns</p>\n",
       "</div>"
      ],
      "text/plain": [
       "                                                   Title              Artist  \\\n",
       "0                         Dress MacLeod from Tartan Sets  Sarah Charlesworth   \n",
       "1      Duplicate of plate from folio 11 verso (supple...     Pablo Palazuelo   \n",
       "2                       Tailpiece (page 55) from SAGESSE       Maurice Denis   \n",
       "3      Headpiece (page 129) from LIVRET DE FOLASTRIES...    Aristide Maillol   \n",
       "4                                          97 rue du Bac        Eugène Atget   \n",
       "...                                                  ...                 ...   \n",
       "16720                                   Oval with Points         Henry Moore   \n",
       "16721    Cementerio de la Ciudad Abierta, Ritoque, Chile         Juan Baixas   \n",
       "16722                                        The Catboat       Edward Hopper   \n",
       "16723  Dognat' i peregnat' v tekhniko-ekonomicheskom ...             Unknown   \n",
       "16724                      Plate (page 11) from The Dive           Alex Katz   \n",
       "\n",
       "      Nationality BeginDate EndDate          Gender       Date  \\\n",
       "0      (American)    (1947)  (2013)          Female       1986   \n",
       "1       (Spanish)    (1916)  (2007)            Male       1978   \n",
       "2        (French)    (1870)  (1943)            Male  1889-1911   \n",
       "3        (French)    (1861)  (1944)            Male  1927-1940   \n",
       "4        (French)    (1857)  (1927)            Male       1903   \n",
       "...           ...       ...     ...             ...        ...   \n",
       "16720   (British)    (1898)  (1986)            Male  1968-1969   \n",
       "16721   (Chilean)    (1942)     NaN            Male       1975   \n",
       "16722  (American)    (1882)  (1967)            Male       1922   \n",
       "16723          ()       NaN     NaN  Gender Unknown       1931   \n",
       "16724  (American)    (1927)     NaN            Male       2011   \n",
       "\n",
       "                       Department  \n",
       "0      Prints & Illustrated Books  \n",
       "1      Prints & Illustrated Books  \n",
       "2      Prints & Illustrated Books  \n",
       "3      Prints & Illustrated Books  \n",
       "4                     Photography  \n",
       "...                           ...  \n",
       "16720        Painting & Sculpture  \n",
       "16721       Architecture & Design  \n",
       "16722  Prints & Illustrated Books  \n",
       "16723  Prints & Illustrated Books  \n",
       "16724  Prints & Illustrated Books  \n",
       "\n",
       "[16725 rows x 8 columns]"
      ]
     },
     "execution_count": 77,
     "metadata": {},
     "output_type": "execute_result"
    }
   ],
   "source": [
    "arts"
   ]
  },
  {
   "cell_type": "code",
   "execution_count": 78,
   "id": "8642962e",
   "metadata": {},
   "outputs": [
    {
     "data": {
      "text/plain": [
       "0        (American)\n",
       "1         (Spanish)\n",
       "2          (French)\n",
       "3          (French)\n",
       "4          (French)\n",
       "            ...    \n",
       "16720     (British)\n",
       "16721     (Chilean)\n",
       "16722    (American)\n",
       "16723            ()\n",
       "16724    (American)\n",
       "Name: Nationality, Length: 16725, dtype: object"
      ]
     },
     "execution_count": 78,
     "metadata": {},
     "output_type": "execute_result"
    }
   ],
   "source": [
    "arts[\"Nationality\"]"
   ]
  },
  {
   "cell_type": "code",
   "execution_count": 79,
   "id": "8c45cc47",
   "metadata": {},
   "outputs": [
    {
     "name": "stderr",
     "output_type": "stream",
     "text": [
      "C:\\Users\\rohai\\AppData\\Local\\Temp\\ipykernel_35868\\3160135327.py:1: FutureWarning: The default value of regex will change from True to False in a future version. In addition, single character regular expressions will *not* be treated as literal strings when regex=True.\n",
      "  arts[\"Nationality\"] = arts[\"Nationality\"].str.replace(\"(\",\"\").str.replace(\")\",\"\")\n"
     ]
    }
   ],
   "source": [
    "arts[\"Nationality\"] = arts[\"Nationality\"].str.replace(\"(\",\"\").str.replace(\")\",\"\")"
   ]
  },
  {
   "cell_type": "code",
   "execution_count": 80,
   "id": "a96b0fba",
   "metadata": {},
   "outputs": [
    {
     "data": {
      "text/plain": [
       "0        American\n",
       "1         Spanish\n",
       "2          French\n",
       "3          French\n",
       "4          French\n",
       "           ...   \n",
       "16720     British\n",
       "16721     Chilean\n",
       "16722    American\n",
       "16723            \n",
       "16724    American\n",
       "Name: Nationality, Length: 16725, dtype: object"
      ]
     },
     "execution_count": 80,
     "metadata": {},
     "output_type": "execute_result"
    }
   ],
   "source": [
    "arts[\"Nationality\"]"
   ]
  },
  {
   "cell_type": "code",
   "execution_count": 81,
   "id": "3fcc4d3c",
   "metadata": {},
   "outputs": [
    {
     "data": {
      "text/plain": [
       "array(['American', 'Spanish', 'French', 'South African', 'Canadian',\n",
       "       'Czech', 'Belgian', 'Russian', 'British', 'German', '', 'Swiss',\n",
       "       'Polish', 'Japanese', 'Portuguese', 'Austrian', 'Australian',\n",
       "       'Italian', 'Chilean', 'Colombian', 'Mexican', 'Brazilian', 'Dutch',\n",
       "       'Romanian', 'Venezuelan', 'Korean', 'Israeli', 'Argentine',\n",
       "       'Indian', 'Nationality unknown', 'Swedish', 'Yugoslav', 'Cuban',\n",
       "       'Nationality Unknown', 'Various', 'Luxembourgish', 'Croatian',\n",
       "       'Bulgarian', 'Hungarian', 'Georgian', 'Puerto Rican', 'Danish',\n",
       "       'Serbian', 'Pakistani', 'Ecuadorian', 'Chinese', 'Iranian',\n",
       "       'Finnish', 'Lebanese', 'Thai', 'Cambodian', 'Scottish', 'Kenyan',\n",
       "       'Latvian', 'Sudanese', 'Uruguayan', 'Peruvian', 'New Zealander',\n",
       "       'Moroccan', 'Guatemalan', 'Cameroonian', 'Egyptian', 'Nigerian',\n",
       "       'Icelandic', 'Haitian', 'Tajik', 'Irish', 'Norwegian',\n",
       "       'Costa Rican', 'Slovenian', 'Turkish', 'Mozambican', 'Palestinian',\n",
       "       'Ukrainian', 'Angolan', 'Tunisian', 'Greek', 'Zimbabwean',\n",
       "       'Bahamian', 'Vietnamese', 'Panamanian', 'Canadian Inuit', 'Malian',\n",
       "       'Filipino'], dtype=object)"
      ]
     },
     "execution_count": 81,
     "metadata": {},
     "output_type": "execute_result"
    }
   ],
   "source": [
    "arts[\"Nationality\"].unique()"
   ]
  },
  {
   "cell_type": "code",
   "execution_count": 82,
   "id": "f8148737",
   "metadata": {},
   "outputs": [],
   "source": [
    "boll = arts[\"Nationality\"] == ''"
   ]
  },
  {
   "cell_type": "code",
   "execution_count": 83,
   "id": "7c208731",
   "metadata": {},
   "outputs": [
    {
     "data": {
      "text/plain": [
       "0        False\n",
       "1        False\n",
       "2        False\n",
       "3        False\n",
       "4        False\n",
       "         ...  \n",
       "16720    False\n",
       "16721    False\n",
       "16722    False\n",
       "16723     True\n",
       "16724    False\n",
       "Name: Nationality, Length: 16725, dtype: bool"
      ]
     },
     "execution_count": 83,
     "metadata": {},
     "output_type": "execute_result"
    }
   ],
   "source": [
    "boll"
   ]
  },
  {
   "cell_type": "code",
   "execution_count": 84,
   "id": "5bdae52c",
   "metadata": {},
   "outputs": [
    {
     "data": {
      "text/plain": [
       "491"
      ]
     },
     "execution_count": 84,
     "metadata": {},
     "output_type": "execute_result"
    }
   ],
   "source": [
    "boll.sum()"
   ]
  },
  {
   "cell_type": "code",
   "execution_count": 85,
   "id": "71999970",
   "metadata": {},
   "outputs": [
    {
     "data": {
      "text/html": [
       "<div>\n",
       "<style scoped>\n",
       "    .dataframe tbody tr th:only-of-type {\n",
       "        vertical-align: middle;\n",
       "    }\n",
       "\n",
       "    .dataframe tbody tr th {\n",
       "        vertical-align: top;\n",
       "    }\n",
       "\n",
       "    .dataframe thead th {\n",
       "        text-align: right;\n",
       "    }\n",
       "</style>\n",
       "<table border=\"1\" class=\"dataframe\">\n",
       "  <thead>\n",
       "    <tr style=\"text-align: right;\">\n",
       "      <th></th>\n",
       "      <th>Title</th>\n",
       "      <th>Artist</th>\n",
       "      <th>Nationality</th>\n",
       "      <th>BeginDate</th>\n",
       "      <th>EndDate</th>\n",
       "      <th>Gender</th>\n",
       "      <th>Date</th>\n",
       "      <th>Department</th>\n",
       "    </tr>\n",
       "  </thead>\n",
       "  <tbody>\n",
       "    <tr>\n",
       "      <th>31</th>\n",
       "      <td>Untitled</td>\n",
       "      <td>Unknown</td>\n",
       "      <td></td>\n",
       "      <td>NaN</td>\n",
       "      <td>NaN</td>\n",
       "      <td>Gender Unknown</td>\n",
       "      <td>c. 1925</td>\n",
       "      <td>Photography</td>\n",
       "    </tr>\n",
       "    <tr>\n",
       "      <th>90</th>\n",
       "      <td>Bar Tools</td>\n",
       "      <td>Studio Opi</td>\n",
       "      <td>Italian</td>\n",
       "      <td>(1955)</td>\n",
       "      <td>NaN</td>\n",
       "      <td>Gender Unknown</td>\n",
       "      <td>1969</td>\n",
       "      <td>Architecture &amp; Design</td>\n",
       "    </tr>\n",
       "    <tr>\n",
       "      <th>137</th>\n",
       "      <td>Nations</td>\n",
       "      <td>Slavs and Tatars</td>\n",
       "      <td></td>\n",
       "      <td>(2005)</td>\n",
       "      <td>NaN</td>\n",
       "      <td>Gender Unknown</td>\n",
       "      <td>2007</td>\n",
       "      <td>Prints &amp; Illustrated Books</td>\n",
       "    </tr>\n",
       "    <tr>\n",
       "      <th>177</th>\n",
       "      <td>El Frente Popular de Madrid Al Frente Popular ...</td>\n",
       "      <td>J. Briones</td>\n",
       "      <td>Spanish</td>\n",
       "      <td>NaN</td>\n",
       "      <td>NaN</td>\n",
       "      <td>Gender Unknown</td>\n",
       "      <td>1936-1937</td>\n",
       "      <td>Architecture &amp; Design</td>\n",
       "    </tr>\n",
       "    <tr>\n",
       "      <th>185</th>\n",
       "      <td>Untitled</td>\n",
       "      <td>Unknown</td>\n",
       "      <td></td>\n",
       "      <td>NaN</td>\n",
       "      <td>NaN</td>\n",
       "      <td>Gender Unknown</td>\n",
       "      <td>1923-1951</td>\n",
       "      <td>Photography</td>\n",
       "    </tr>\n",
       "    <tr>\n",
       "      <th>...</th>\n",
       "      <td>...</td>\n",
       "      <td>...</td>\n",
       "      <td>...</td>\n",
       "      <td>...</td>\n",
       "      <td>...</td>\n",
       "      <td>...</td>\n",
       "      <td>...</td>\n",
       "      <td>...</td>\n",
       "    </tr>\n",
       "    <tr>\n",
       "      <th>16664</th>\n",
       "      <td>Untitled</td>\n",
       "      <td>Unknown</td>\n",
       "      <td></td>\n",
       "      <td>NaN</td>\n",
       "      <td>NaN</td>\n",
       "      <td>Gender Unknown</td>\n",
       "      <td>c. 1960</td>\n",
       "      <td>Photography</td>\n",
       "    </tr>\n",
       "    <tr>\n",
       "      <th>16670</th>\n",
       "      <td>Inflatable Armchair</td>\n",
       "      <td>Quasar (Nguyen Manh Khanh)</td>\n",
       "      <td>Vietnamese</td>\n",
       "      <td>(1934)</td>\n",
       "      <td>NaN</td>\n",
       "      <td>Gender Unknown</td>\n",
       "      <td>1967-1968</td>\n",
       "      <td>Architecture &amp; Design</td>\n",
       "    </tr>\n",
       "    <tr>\n",
       "      <th>16688</th>\n",
       "      <td>Poster of the French National Railroad</td>\n",
       "      <td>Album-miscellaneous</td>\n",
       "      <td>Various</td>\n",
       "      <td>NaN</td>\n",
       "      <td>NaN</td>\n",
       "      <td>Gender Unknown</td>\n",
       "      <td>1900-1943</td>\n",
       "      <td>Architecture &amp; Design</td>\n",
       "    </tr>\n",
       "    <tr>\n",
       "      <th>16702</th>\n",
       "      <td>Salon de la Plume</td>\n",
       "      <td>Unknown</td>\n",
       "      <td>Nationality Unknown</td>\n",
       "      <td>NaN</td>\n",
       "      <td>NaN</td>\n",
       "      <td>Gender Unknown</td>\n",
       "      <td>1880-1910</td>\n",
       "      <td>Architecture &amp; Design</td>\n",
       "    </tr>\n",
       "    <tr>\n",
       "      <th>16723</th>\n",
       "      <td>Dognat' i peregnat' v tekhniko-ekonomicheskom ...</td>\n",
       "      <td>Unknown</td>\n",
       "      <td></td>\n",
       "      <td>NaN</td>\n",
       "      <td>NaN</td>\n",
       "      <td>Gender Unknown</td>\n",
       "      <td>1931</td>\n",
       "      <td>Prints &amp; Illustrated Books</td>\n",
       "    </tr>\n",
       "  </tbody>\n",
       "</table>\n",
       "<p>791 rows × 8 columns</p>\n",
       "</div>"
      ],
      "text/plain": [
       "                                                   Title  \\\n",
       "31                                              Untitled   \n",
       "90                                             Bar Tools   \n",
       "137                                              Nations   \n",
       "177    El Frente Popular de Madrid Al Frente Popular ...   \n",
       "185                                             Untitled   \n",
       "...                                                  ...   \n",
       "16664                                           Untitled   \n",
       "16670                                Inflatable Armchair   \n",
       "16688             Poster of the French National Railroad   \n",
       "16702                                  Salon de la Plume   \n",
       "16723  Dognat' i peregnat' v tekhniko-ekonomicheskom ...   \n",
       "\n",
       "                           Artist          Nationality BeginDate EndDate  \\\n",
       "31                        Unknown                            NaN     NaN   \n",
       "90                     Studio Opi              Italian    (1955)     NaN   \n",
       "137              Slavs and Tatars                         (2005)     NaN   \n",
       "177                    J. Briones              Spanish       NaN     NaN   \n",
       "185                       Unknown                            NaN     NaN   \n",
       "...                           ...                  ...       ...     ...   \n",
       "16664                     Unknown                            NaN     NaN   \n",
       "16670  Quasar (Nguyen Manh Khanh)           Vietnamese    (1934)     NaN   \n",
       "16688         Album-miscellaneous              Various       NaN     NaN   \n",
       "16702                     Unknown  Nationality Unknown       NaN     NaN   \n",
       "16723                     Unknown                            NaN     NaN   \n",
       "\n",
       "               Gender       Date                  Department  \n",
       "31     Gender Unknown    c. 1925                 Photography  \n",
       "90     Gender Unknown       1969       Architecture & Design  \n",
       "137    Gender Unknown       2007  Prints & Illustrated Books  \n",
       "177    Gender Unknown  1936-1937       Architecture & Design  \n",
       "185    Gender Unknown  1923-1951                 Photography  \n",
       "...               ...        ...                         ...  \n",
       "16664  Gender Unknown    c. 1960                 Photography  \n",
       "16670  Gender Unknown  1967-1968       Architecture & Design  \n",
       "16688  Gender Unknown  1900-1943       Architecture & Design  \n",
       "16702  Gender Unknown  1880-1910       Architecture & Design  \n",
       "16723  Gender Unknown       1931  Prints & Illustrated Books  \n",
       "\n",
       "[791 rows x 8 columns]"
      ]
     },
     "execution_count": 85,
     "metadata": {},
     "output_type": "execute_result"
    }
   ],
   "source": [
    "arts[bol]"
   ]
  },
  {
   "cell_type": "code",
   "execution_count": 86,
   "id": "af6c1cf6",
   "metadata": {},
   "outputs": [],
   "source": [
    "arts.loc[boll,\"Nationality\"] = \"Nationality Unkown\""
   ]
  },
  {
   "cell_type": "code",
   "execution_count": 87,
   "id": "ee663350",
   "metadata": {},
   "outputs": [
    {
     "data": {
      "text/plain": [
       "array(['American', 'Spanish', 'French', 'South African', 'Canadian',\n",
       "       'Czech', 'Belgian', 'Russian', 'British', 'German',\n",
       "       'Nationality Unkown', 'Swiss', 'Polish', 'Japanese', 'Portuguese',\n",
       "       'Austrian', 'Australian', 'Italian', 'Chilean', 'Colombian',\n",
       "       'Mexican', 'Brazilian', 'Dutch', 'Romanian', 'Venezuelan',\n",
       "       'Korean', 'Israeli', 'Argentine', 'Indian', 'Nationality unknown',\n",
       "       'Swedish', 'Yugoslav', 'Cuban', 'Nationality Unknown', 'Various',\n",
       "       'Luxembourgish', 'Croatian', 'Bulgarian', 'Hungarian', 'Georgian',\n",
       "       'Puerto Rican', 'Danish', 'Serbian', 'Pakistani', 'Ecuadorian',\n",
       "       'Chinese', 'Iranian', 'Finnish', 'Lebanese', 'Thai', 'Cambodian',\n",
       "       'Scottish', 'Kenyan', 'Latvian', 'Sudanese', 'Uruguayan',\n",
       "       'Peruvian', 'New Zealander', 'Moroccan', 'Guatemalan',\n",
       "       'Cameroonian', 'Egyptian', 'Nigerian', 'Icelandic', 'Haitian',\n",
       "       'Tajik', 'Irish', 'Norwegian', 'Costa Rican', 'Slovenian',\n",
       "       'Turkish', 'Mozambican', 'Palestinian', 'Ukrainian', 'Angolan',\n",
       "       'Tunisian', 'Greek', 'Zimbabwean', 'Bahamian', 'Vietnamese',\n",
       "       'Panamanian', 'Canadian Inuit', 'Malian', 'Filipino'], dtype=object)"
      ]
     },
     "execution_count": 87,
     "metadata": {},
     "output_type": "execute_result"
    }
   ],
   "source": [
    "arts[\"Nationality\"].unique()"
   ]
  },
  {
   "cell_type": "code",
   "execution_count": 88,
   "id": "2925c15a",
   "metadata": {},
   "outputs": [
    {
     "data": {
      "text/html": [
       "<div>\n",
       "<style scoped>\n",
       "    .dataframe tbody tr th:only-of-type {\n",
       "        vertical-align: middle;\n",
       "    }\n",
       "\n",
       "    .dataframe tbody tr th {\n",
       "        vertical-align: top;\n",
       "    }\n",
       "\n",
       "    .dataframe thead th {\n",
       "        text-align: right;\n",
       "    }\n",
       "</style>\n",
       "<table border=\"1\" class=\"dataframe\">\n",
       "  <thead>\n",
       "    <tr style=\"text-align: right;\">\n",
       "      <th></th>\n",
       "      <th>Title</th>\n",
       "      <th>Artist</th>\n",
       "      <th>Nationality</th>\n",
       "      <th>BeginDate</th>\n",
       "      <th>EndDate</th>\n",
       "      <th>Gender</th>\n",
       "      <th>Date</th>\n",
       "      <th>Department</th>\n",
       "    </tr>\n",
       "  </thead>\n",
       "  <tbody>\n",
       "    <tr>\n",
       "      <th>0</th>\n",
       "      <td>Dress MacLeod from Tartan Sets</td>\n",
       "      <td>Sarah Charlesworth</td>\n",
       "      <td>American</td>\n",
       "      <td>(1947)</td>\n",
       "      <td>(2013)</td>\n",
       "      <td>Female</td>\n",
       "      <td>1986</td>\n",
       "      <td>Prints &amp; Illustrated Books</td>\n",
       "    </tr>\n",
       "    <tr>\n",
       "      <th>1</th>\n",
       "      <td>Duplicate of plate from folio 11 verso (supple...</td>\n",
       "      <td>Pablo Palazuelo</td>\n",
       "      <td>Spanish</td>\n",
       "      <td>(1916)</td>\n",
       "      <td>(2007)</td>\n",
       "      <td>Male</td>\n",
       "      <td>1978</td>\n",
       "      <td>Prints &amp; Illustrated Books</td>\n",
       "    </tr>\n",
       "    <tr>\n",
       "      <th>2</th>\n",
       "      <td>Tailpiece (page 55) from SAGESSE</td>\n",
       "      <td>Maurice Denis</td>\n",
       "      <td>French</td>\n",
       "      <td>(1870)</td>\n",
       "      <td>(1943)</td>\n",
       "      <td>Male</td>\n",
       "      <td>1889-1911</td>\n",
       "      <td>Prints &amp; Illustrated Books</td>\n",
       "    </tr>\n",
       "    <tr>\n",
       "      <th>3</th>\n",
       "      <td>Headpiece (page 129) from LIVRET DE FOLASTRIES...</td>\n",
       "      <td>Aristide Maillol</td>\n",
       "      <td>French</td>\n",
       "      <td>(1861)</td>\n",
       "      <td>(1944)</td>\n",
       "      <td>Male</td>\n",
       "      <td>1927-1940</td>\n",
       "      <td>Prints &amp; Illustrated Books</td>\n",
       "    </tr>\n",
       "    <tr>\n",
       "      <th>4</th>\n",
       "      <td>97 rue du Bac</td>\n",
       "      <td>Eugène Atget</td>\n",
       "      <td>French</td>\n",
       "      <td>(1857)</td>\n",
       "      <td>(1927)</td>\n",
       "      <td>Male</td>\n",
       "      <td>1903</td>\n",
       "      <td>Photography</td>\n",
       "    </tr>\n",
       "    <tr>\n",
       "      <th>...</th>\n",
       "      <td>...</td>\n",
       "      <td>...</td>\n",
       "      <td>...</td>\n",
       "      <td>...</td>\n",
       "      <td>...</td>\n",
       "      <td>...</td>\n",
       "      <td>...</td>\n",
       "      <td>...</td>\n",
       "    </tr>\n",
       "    <tr>\n",
       "      <th>16720</th>\n",
       "      <td>Oval with Points</td>\n",
       "      <td>Henry Moore</td>\n",
       "      <td>British</td>\n",
       "      <td>(1898)</td>\n",
       "      <td>(1986)</td>\n",
       "      <td>Male</td>\n",
       "      <td>1968-1969</td>\n",
       "      <td>Painting &amp; Sculpture</td>\n",
       "    </tr>\n",
       "    <tr>\n",
       "      <th>16721</th>\n",
       "      <td>Cementerio de la Ciudad Abierta, Ritoque, Chile</td>\n",
       "      <td>Juan Baixas</td>\n",
       "      <td>Chilean</td>\n",
       "      <td>(1942)</td>\n",
       "      <td>NaN</td>\n",
       "      <td>Male</td>\n",
       "      <td>1975</td>\n",
       "      <td>Architecture &amp; Design</td>\n",
       "    </tr>\n",
       "    <tr>\n",
       "      <th>16722</th>\n",
       "      <td>The Catboat</td>\n",
       "      <td>Edward Hopper</td>\n",
       "      <td>American</td>\n",
       "      <td>(1882)</td>\n",
       "      <td>(1967)</td>\n",
       "      <td>Male</td>\n",
       "      <td>1922</td>\n",
       "      <td>Prints &amp; Illustrated Books</td>\n",
       "    </tr>\n",
       "    <tr>\n",
       "      <th>16723</th>\n",
       "      <td>Dognat' i peregnat' v tekhniko-ekonomicheskom ...</td>\n",
       "      <td>Unknown</td>\n",
       "      <td>Nationality Unkown</td>\n",
       "      <td>NaN</td>\n",
       "      <td>NaN</td>\n",
       "      <td>Gender Unknown</td>\n",
       "      <td>1931</td>\n",
       "      <td>Prints &amp; Illustrated Books</td>\n",
       "    </tr>\n",
       "    <tr>\n",
       "      <th>16724</th>\n",
       "      <td>Plate (page 11) from The Dive</td>\n",
       "      <td>Alex Katz</td>\n",
       "      <td>American</td>\n",
       "      <td>(1927)</td>\n",
       "      <td>NaN</td>\n",
       "      <td>Male</td>\n",
       "      <td>2011</td>\n",
       "      <td>Prints &amp; Illustrated Books</td>\n",
       "    </tr>\n",
       "  </tbody>\n",
       "</table>\n",
       "<p>16725 rows × 8 columns</p>\n",
       "</div>"
      ],
      "text/plain": [
       "                                                   Title              Artist  \\\n",
       "0                         Dress MacLeod from Tartan Sets  Sarah Charlesworth   \n",
       "1      Duplicate of plate from folio 11 verso (supple...     Pablo Palazuelo   \n",
       "2                       Tailpiece (page 55) from SAGESSE       Maurice Denis   \n",
       "3      Headpiece (page 129) from LIVRET DE FOLASTRIES...    Aristide Maillol   \n",
       "4                                          97 rue du Bac        Eugène Atget   \n",
       "...                                                  ...                 ...   \n",
       "16720                                   Oval with Points         Henry Moore   \n",
       "16721    Cementerio de la Ciudad Abierta, Ritoque, Chile         Juan Baixas   \n",
       "16722                                        The Catboat       Edward Hopper   \n",
       "16723  Dognat' i peregnat' v tekhniko-ekonomicheskom ...             Unknown   \n",
       "16724                      Plate (page 11) from The Dive           Alex Katz   \n",
       "\n",
       "              Nationality BeginDate EndDate          Gender       Date  \\\n",
       "0                American    (1947)  (2013)          Female       1986   \n",
       "1                 Spanish    (1916)  (2007)            Male       1978   \n",
       "2                  French    (1870)  (1943)            Male  1889-1911   \n",
       "3                  French    (1861)  (1944)            Male  1927-1940   \n",
       "4                  French    (1857)  (1927)            Male       1903   \n",
       "...                   ...       ...     ...             ...        ...   \n",
       "16720             British    (1898)  (1986)            Male  1968-1969   \n",
       "16721             Chilean    (1942)     NaN            Male       1975   \n",
       "16722            American    (1882)  (1967)            Male       1922   \n",
       "16723  Nationality Unkown       NaN     NaN  Gender Unknown       1931   \n",
       "16724            American    (1927)     NaN            Male       2011   \n",
       "\n",
       "                       Department  \n",
       "0      Prints & Illustrated Books  \n",
       "1      Prints & Illustrated Books  \n",
       "2      Prints & Illustrated Books  \n",
       "3      Prints & Illustrated Books  \n",
       "4                     Photography  \n",
       "...                           ...  \n",
       "16720        Painting & Sculpture  \n",
       "16721       Architecture & Design  \n",
       "16722  Prints & Illustrated Books  \n",
       "16723  Prints & Illustrated Books  \n",
       "16724  Prints & Illustrated Books  \n",
       "\n",
       "[16725 rows x 8 columns]"
      ]
     },
     "execution_count": 88,
     "metadata": {},
     "output_type": "execute_result"
    }
   ],
   "source": [
    "arts"
   ]
  },
  {
   "cell_type": "code",
   "execution_count": 89,
   "id": "3e27a70d",
   "metadata": {},
   "outputs": [
    {
     "data": {
      "text/plain": [
       "0        (1947)\n",
       "1        (1916)\n",
       "2        (1870)\n",
       "3        (1861)\n",
       "4        (1857)\n",
       "          ...  \n",
       "16720    (1898)\n",
       "16721    (1942)\n",
       "16722    (1882)\n",
       "16723       NaN\n",
       "16724    (1927)\n",
       "Name: BeginDate, Length: 16725, dtype: object"
      ]
     },
     "execution_count": 89,
     "metadata": {},
     "output_type": "execute_result"
    }
   ],
   "source": [
    "arts[\"BeginDate\"]"
   ]
  },
  {
   "cell_type": "code",
   "execution_count": 90,
   "id": "cba2ae21",
   "metadata": {},
   "outputs": [
    {
     "data": {
      "text/plain": [
       "array(['(1947)', '(1916)', '(1870)', '(1861)', '(1857)', '(1919)',\n",
       "       '(1928)', '(1964)', '(1882)', '(1901)', '(1935)', '(1871)',\n",
       "       '(1894)', '(1955)', '(1878)', '(1927)', '(1936)', '(1867)',\n",
       "       '(1932)', '(1886)', '(1938)', '(1926)', '(1898)', '(1868)',\n",
       "       '(1889)', nan, '(1934)', '(1929)', '(1930)', '(1949)', '(1753)',\n",
       "       '(1973)', '(1902)', '(1933)', '(1893)', '(1887)', '(1925)',\n",
       "       '(1948)', '(1931)', '(1911)', '(1943)', '(1954)', '(1843)',\n",
       "       '(1966)', '(1957)', '(1903)', '(1909)', '(1890)', '(1883)',\n",
       "       '(1945)', '(1864)', '(1904)', '(1915)', '(1958)', '(1877)',\n",
       "       '(1978)', '(1963)', '(1922)', '(1831)', '(1967)', '(1905)',\n",
       "       '(1830)', '(1924)', '(1881)', '(1910)', '(1946)', '(1885)',\n",
       "       '(1917)', '(1923)', '(1900)', '(2005)', '(1884)', '(1913)',\n",
       "       '(1880)', '(1874)', '(1941)', '(1977)', '(1862)', '(1852)',\n",
       "       '(1950)', '(1896)', '(1971)', '(1860)', '(1969)', '(1962)',\n",
       "       '(1912)', '(1921)', '(1914)', '(1895)', '(1982)', '(1906)',\n",
       "       '(1937)', '(1939)', '(1972)', '(1959)', '(1942)', '(1961)',\n",
       "       '(1826)', '(1899)', '(1944)', '(1837)', '(1869)', '(1951)',\n",
       "       '(1975)', '(1908)', '(1974)', '(1891)', '(1940)', '(1820)',\n",
       "       '(1873)', '(1892)', '(1876)', '(1960)', '(1829)', '(1875)',\n",
       "       '(1879)', '(1968)', '(1953)', '(1866)', '(1858)', '(1833)',\n",
       "       '(1840)', '(1822)', '(1918)', '(1965)', '(1952)', '(1802)',\n",
       "       '(1920)', '(1865)', '(1983)', '(1970)', '(1907)', '(1819)',\n",
       "       '(1888)', '(2012)', '(1856)', '(1897)', '(1976)', '(1956)',\n",
       "       '(1816)', '(1746)', '(1849)', '(1801)', '(1832)', '(1844)',\n",
       "       '(1872)', '(1980)', '(1988)', '(1979)', '(1985)', '(1841)',\n",
       "       '(1863)', '(1823)', '(1828)', '(1811)', '(1997)', '(1825)',\n",
       "       '(1836)', '(1848)', '(1834)', '(1815)', '(1859)', '(1992)',\n",
       "       '(1787)', '(1814)', '(1851)', '(1842)', '(1824)', '(1813)',\n",
       "       '(1796)', '(1798)', '(1981)', '(1845)', '(2010)', '(1808)',\n",
       "       '(1853)', '(1996)', '(1855)', '(1827)', '(1839)', '(1812)',\n",
       "       '(1800)', '(1984)', '(1792)', '(1797)', '(1986)', '(1987)',\n",
       "       '(1850)', '(1854)', '(1821)'], dtype=object)"
      ]
     },
     "execution_count": 90,
     "metadata": {},
     "output_type": "execute_result"
    }
   ],
   "source": [
    "arts[\"BeginDate\"].unique()"
   ]
  },
  {
   "cell_type": "code",
   "execution_count": 91,
   "id": "1bfc3287",
   "metadata": {},
   "outputs": [
    {
     "name": "stderr",
     "output_type": "stream",
     "text": [
      "C:\\Users\\rohai\\AppData\\Local\\Temp\\ipykernel_35868\\1611827576.py:1: FutureWarning: The default value of regex will change from True to False in a future version. In addition, single character regular expressions will *not* be treated as literal strings when regex=True.\n",
      "  arts[\"BeginDate\"].str.replace(\"(\",\"\").str.replace(\")\",\"\")\n"
     ]
    },
    {
     "data": {
      "text/plain": [
       "0        1947\n",
       "1        1916\n",
       "2        1870\n",
       "3        1861\n",
       "4        1857\n",
       "         ... \n",
       "16720    1898\n",
       "16721    1942\n",
       "16722    1882\n",
       "16723     NaN\n",
       "16724    1927\n",
       "Name: BeginDate, Length: 16725, dtype: object"
      ]
     },
     "execution_count": 91,
     "metadata": {},
     "output_type": "execute_result"
    }
   ],
   "source": [
    "arts[\"BeginDate\"].str.replace(\"(\",\"\").str.replace(\")\",\"\")"
   ]
  },
  {
   "cell_type": "code",
   "execution_count": 92,
   "id": "84c427c6",
   "metadata": {},
   "outputs": [
    {
     "name": "stderr",
     "output_type": "stream",
     "text": [
      "C:\\Users\\rohai\\AppData\\Local\\Temp\\ipykernel_35868\\4281817214.py:1: FutureWarning: The default value of regex will change from True to False in a future version. In addition, single character regular expressions will *not* be treated as literal strings when regex=True.\n",
      "  arts[\"BeginDate\"] = arts[\"BeginDate\"].str.replace(\"(\",\"\").str.replace(\")\",\"\").astype(float)\n"
     ]
    }
   ],
   "source": [
    "arts[\"BeginDate\"] = arts[\"BeginDate\"].str.replace(\"(\",\"\").str.replace(\")\",\"\").astype(float)"
   ]
  },
  {
   "cell_type": "code",
   "execution_count": 93,
   "id": "35146cc6",
   "metadata": {},
   "outputs": [
    {
     "data": {
      "text/plain": [
       "array([1947., 1916., 1870., 1861., 1857., 1919., 1928., 1964., 1882.,\n",
       "       1901., 1935., 1871., 1894., 1955., 1878., 1927., 1936., 1867.,\n",
       "       1932., 1886., 1938., 1926., 1898., 1868., 1889.,   nan, 1934.,\n",
       "       1929., 1930., 1949., 1753., 1973., 1902., 1933., 1893., 1887.,\n",
       "       1925., 1948., 1931., 1911., 1943., 1954., 1843., 1966., 1957.,\n",
       "       1903., 1909., 1890., 1883., 1945., 1864., 1904., 1915., 1958.,\n",
       "       1877., 1978., 1963., 1922., 1831., 1967., 1905., 1830., 1924.,\n",
       "       1881., 1910., 1946., 1885., 1917., 1923., 1900., 2005., 1884.,\n",
       "       1913., 1880., 1874., 1941., 1977., 1862., 1852., 1950., 1896.,\n",
       "       1971., 1860., 1969., 1962., 1912., 1921., 1914., 1895., 1982.,\n",
       "       1906., 1937., 1939., 1972., 1959., 1942., 1961., 1826., 1899.,\n",
       "       1944., 1837., 1869., 1951., 1975., 1908., 1974., 1891., 1940.,\n",
       "       1820., 1873., 1892., 1876., 1960., 1829., 1875., 1879., 1968.,\n",
       "       1953., 1866., 1858., 1833., 1840., 1822., 1918., 1965., 1952.,\n",
       "       1802., 1920., 1865., 1983., 1970., 1907., 1819., 1888., 2012.,\n",
       "       1856., 1897., 1976., 1956., 1816., 1746., 1849., 1801., 1832.,\n",
       "       1844., 1872., 1980., 1988., 1979., 1985., 1841., 1863., 1823.,\n",
       "       1828., 1811., 1997., 1825., 1836., 1848., 1834., 1815., 1859.,\n",
       "       1992., 1787., 1814., 1851., 1842., 1824., 1813., 1796., 1798.,\n",
       "       1981., 1845., 2010., 1808., 1853., 1996., 1855., 1827., 1839.,\n",
       "       1812., 1800., 1984., 1792., 1797., 1986., 1987., 1850., 1854.,\n",
       "       1821.])"
      ]
     },
     "execution_count": 93,
     "metadata": {},
     "output_type": "execute_result"
    }
   ],
   "source": [
    "arts[\"BeginDate\"].unique()"
   ]
  },
  {
   "cell_type": "code",
   "execution_count": 94,
   "id": "c977bf48",
   "metadata": {},
   "outputs": [
    {
     "data": {
      "text/html": [
       "<div>\n",
       "<style scoped>\n",
       "    .dataframe tbody tr th:only-of-type {\n",
       "        vertical-align: middle;\n",
       "    }\n",
       "\n",
       "    .dataframe tbody tr th {\n",
       "        vertical-align: top;\n",
       "    }\n",
       "\n",
       "    .dataframe thead th {\n",
       "        text-align: right;\n",
       "    }\n",
       "</style>\n",
       "<table border=\"1\" class=\"dataframe\">\n",
       "  <thead>\n",
       "    <tr style=\"text-align: right;\">\n",
       "      <th></th>\n",
       "      <th>Title</th>\n",
       "      <th>Artist</th>\n",
       "      <th>Nationality</th>\n",
       "      <th>BeginDate</th>\n",
       "      <th>EndDate</th>\n",
       "      <th>Gender</th>\n",
       "      <th>Date</th>\n",
       "      <th>Department</th>\n",
       "    </tr>\n",
       "  </thead>\n",
       "  <tbody>\n",
       "    <tr>\n",
       "      <th>0</th>\n",
       "      <td>Dress MacLeod from Tartan Sets</td>\n",
       "      <td>Sarah Charlesworth</td>\n",
       "      <td>American</td>\n",
       "      <td>1947.0</td>\n",
       "      <td>(2013)</td>\n",
       "      <td>Female</td>\n",
       "      <td>1986</td>\n",
       "      <td>Prints &amp; Illustrated Books</td>\n",
       "    </tr>\n",
       "    <tr>\n",
       "      <th>1</th>\n",
       "      <td>Duplicate of plate from folio 11 verso (supple...</td>\n",
       "      <td>Pablo Palazuelo</td>\n",
       "      <td>Spanish</td>\n",
       "      <td>1916.0</td>\n",
       "      <td>(2007)</td>\n",
       "      <td>Male</td>\n",
       "      <td>1978</td>\n",
       "      <td>Prints &amp; Illustrated Books</td>\n",
       "    </tr>\n",
       "    <tr>\n",
       "      <th>2</th>\n",
       "      <td>Tailpiece (page 55) from SAGESSE</td>\n",
       "      <td>Maurice Denis</td>\n",
       "      <td>French</td>\n",
       "      <td>1870.0</td>\n",
       "      <td>(1943)</td>\n",
       "      <td>Male</td>\n",
       "      <td>1889-1911</td>\n",
       "      <td>Prints &amp; Illustrated Books</td>\n",
       "    </tr>\n",
       "    <tr>\n",
       "      <th>3</th>\n",
       "      <td>Headpiece (page 129) from LIVRET DE FOLASTRIES...</td>\n",
       "      <td>Aristide Maillol</td>\n",
       "      <td>French</td>\n",
       "      <td>1861.0</td>\n",
       "      <td>(1944)</td>\n",
       "      <td>Male</td>\n",
       "      <td>1927-1940</td>\n",
       "      <td>Prints &amp; Illustrated Books</td>\n",
       "    </tr>\n",
       "    <tr>\n",
       "      <th>4</th>\n",
       "      <td>97 rue du Bac</td>\n",
       "      <td>Eugène Atget</td>\n",
       "      <td>French</td>\n",
       "      <td>1857.0</td>\n",
       "      <td>(1927)</td>\n",
       "      <td>Male</td>\n",
       "      <td>1903</td>\n",
       "      <td>Photography</td>\n",
       "    </tr>\n",
       "    <tr>\n",
       "      <th>...</th>\n",
       "      <td>...</td>\n",
       "      <td>...</td>\n",
       "      <td>...</td>\n",
       "      <td>...</td>\n",
       "      <td>...</td>\n",
       "      <td>...</td>\n",
       "      <td>...</td>\n",
       "      <td>...</td>\n",
       "    </tr>\n",
       "    <tr>\n",
       "      <th>16720</th>\n",
       "      <td>Oval with Points</td>\n",
       "      <td>Henry Moore</td>\n",
       "      <td>British</td>\n",
       "      <td>1898.0</td>\n",
       "      <td>(1986)</td>\n",
       "      <td>Male</td>\n",
       "      <td>1968-1969</td>\n",
       "      <td>Painting &amp; Sculpture</td>\n",
       "    </tr>\n",
       "    <tr>\n",
       "      <th>16721</th>\n",
       "      <td>Cementerio de la Ciudad Abierta, Ritoque, Chile</td>\n",
       "      <td>Juan Baixas</td>\n",
       "      <td>Chilean</td>\n",
       "      <td>1942.0</td>\n",
       "      <td>NaN</td>\n",
       "      <td>Male</td>\n",
       "      <td>1975</td>\n",
       "      <td>Architecture &amp; Design</td>\n",
       "    </tr>\n",
       "    <tr>\n",
       "      <th>16722</th>\n",
       "      <td>The Catboat</td>\n",
       "      <td>Edward Hopper</td>\n",
       "      <td>American</td>\n",
       "      <td>1882.0</td>\n",
       "      <td>(1967)</td>\n",
       "      <td>Male</td>\n",
       "      <td>1922</td>\n",
       "      <td>Prints &amp; Illustrated Books</td>\n",
       "    </tr>\n",
       "    <tr>\n",
       "      <th>16723</th>\n",
       "      <td>Dognat' i peregnat' v tekhniko-ekonomicheskom ...</td>\n",
       "      <td>Unknown</td>\n",
       "      <td>Nationality Unkown</td>\n",
       "      <td>NaN</td>\n",
       "      <td>NaN</td>\n",
       "      <td>Gender Unknown</td>\n",
       "      <td>1931</td>\n",
       "      <td>Prints &amp; Illustrated Books</td>\n",
       "    </tr>\n",
       "    <tr>\n",
       "      <th>16724</th>\n",
       "      <td>Plate (page 11) from The Dive</td>\n",
       "      <td>Alex Katz</td>\n",
       "      <td>American</td>\n",
       "      <td>1927.0</td>\n",
       "      <td>NaN</td>\n",
       "      <td>Male</td>\n",
       "      <td>2011</td>\n",
       "      <td>Prints &amp; Illustrated Books</td>\n",
       "    </tr>\n",
       "  </tbody>\n",
       "</table>\n",
       "<p>16725 rows × 8 columns</p>\n",
       "</div>"
      ],
      "text/plain": [
       "                                                   Title              Artist  \\\n",
       "0                         Dress MacLeod from Tartan Sets  Sarah Charlesworth   \n",
       "1      Duplicate of plate from folio 11 verso (supple...     Pablo Palazuelo   \n",
       "2                       Tailpiece (page 55) from SAGESSE       Maurice Denis   \n",
       "3      Headpiece (page 129) from LIVRET DE FOLASTRIES...    Aristide Maillol   \n",
       "4                                          97 rue du Bac        Eugène Atget   \n",
       "...                                                  ...                 ...   \n",
       "16720                                   Oval with Points         Henry Moore   \n",
       "16721    Cementerio de la Ciudad Abierta, Ritoque, Chile         Juan Baixas   \n",
       "16722                                        The Catboat       Edward Hopper   \n",
       "16723  Dognat' i peregnat' v tekhniko-ekonomicheskom ...             Unknown   \n",
       "16724                      Plate (page 11) from The Dive           Alex Katz   \n",
       "\n",
       "              Nationality  BeginDate EndDate          Gender       Date  \\\n",
       "0                American     1947.0  (2013)          Female       1986   \n",
       "1                 Spanish     1916.0  (2007)            Male       1978   \n",
       "2                  French     1870.0  (1943)            Male  1889-1911   \n",
       "3                  French     1861.0  (1944)            Male  1927-1940   \n",
       "4                  French     1857.0  (1927)            Male       1903   \n",
       "...                   ...        ...     ...             ...        ...   \n",
       "16720             British     1898.0  (1986)            Male  1968-1969   \n",
       "16721             Chilean     1942.0     NaN            Male       1975   \n",
       "16722            American     1882.0  (1967)            Male       1922   \n",
       "16723  Nationality Unkown        NaN     NaN  Gender Unknown       1931   \n",
       "16724            American     1927.0     NaN            Male       2011   \n",
       "\n",
       "                       Department  \n",
       "0      Prints & Illustrated Books  \n",
       "1      Prints & Illustrated Books  \n",
       "2      Prints & Illustrated Books  \n",
       "3      Prints & Illustrated Books  \n",
       "4                     Photography  \n",
       "...                           ...  \n",
       "16720        Painting & Sculpture  \n",
       "16721       Architecture & Design  \n",
       "16722  Prints & Illustrated Books  \n",
       "16723  Prints & Illustrated Books  \n",
       "16724  Prints & Illustrated Books  \n",
       "\n",
       "[16725 rows x 8 columns]"
      ]
     },
     "execution_count": 94,
     "metadata": {},
     "output_type": "execute_result"
    }
   ],
   "source": [
    "arts"
   ]
  },
  {
   "cell_type": "code",
   "execution_count": 95,
   "id": "67f11f27",
   "metadata": {},
   "outputs": [
    {
     "data": {
      "text/plain": [
       "Title           object\n",
       "Artist          object\n",
       "Nationality     object\n",
       "BeginDate      float64\n",
       "EndDate         object\n",
       "Gender          object\n",
       "Date            object\n",
       "Department      object\n",
       "dtype: object"
      ]
     },
     "execution_count": 95,
     "metadata": {},
     "output_type": "execute_result"
    }
   ],
   "source": [
    "arts.dtypes"
   ]
  },
  {
   "cell_type": "code",
   "execution_count": 96,
   "id": "d74bf26c",
   "metadata": {},
   "outputs": [
    {
     "name": "stderr",
     "output_type": "stream",
     "text": [
      "C:\\Users\\rohai\\AppData\\Local\\Temp\\ipykernel_35868\\3811473761.py:1: FutureWarning: The default value of regex will change from True to False in a future version. In addition, single character regular expressions will *not* be treated as literal strings when regex=True.\n",
      "  arts[\"EndDate\"] = arts[\"EndDate\"].str.replace(\"(\",\"\").str.replace(\")\",\"\").astype(float)\n"
     ]
    }
   ],
   "source": [
    "arts[\"EndDate\"] = arts[\"EndDate\"].str.replace(\"(\",\"\").str.replace(\")\",\"\").astype(float)"
   ]
  },
  {
   "cell_type": "code",
   "execution_count": 97,
   "id": "06dc14f2",
   "metadata": {},
   "outputs": [
    {
     "data": {
      "text/plain": [
       "array([2013., 2007., 1943., 1944., 1927., 1984.,   nan, 1953., 1985.,\n",
       "       1957., 1972., 1965., 1959., 1969., 1958., 1987., 1976., 1947.,\n",
       "       1941., 2006., 1998., 1978., 1828., 1988., 1983., 2008., 2011.,\n",
       "       2010., 1956., 1908., 1996., 1991., 1981., 1982., 2014., 1901.,\n",
       "       1997., 2004., 2016., 1960., 2000., 1913., 1970., 1904., 1955.,\n",
       "       1951., 1992., 1933., 2012., 2002., 1974., 1989., 1962., 1938.,\n",
       "       1948., 1952., 2003., 1930., 1928., 1934., 1966., 1979., 1961.,\n",
       "       1994., 2018., 1954., 1942., 2017., 1993., 1920., 1949., 1896.,\n",
       "       1935., 1921., 1946., 1995., 1986., 1925., 1999., 1971., 1884.,\n",
       "       2009., 1940., 1977., 1964., 1975., 1916., 1963., 2005., 1973.,\n",
       "       2001., 1919., 2015., 1980., 1898., 1931., 1967., 1950., 1968.,\n",
       "       1870., 1990., 1918., 1902., 1907., 1882., 1945., 1936., 1894.,\n",
       "       1887., 1917., 1914., 1883., 1926., 1869., 1871., 1909., 1939.,\n",
       "       1872., 1932., 1903., 1911., 1910., 1879., 1924., 1923., 1868.,\n",
       "       1880., 1900., 1891., 1937., 1856., 1851., 1915., 1875., 1863.,\n",
       "       1922., 1906., 1886., 1895., 1867., 1878., 1877., 1890., 1929.,\n",
       "       1885.])"
      ]
     },
     "execution_count": 97,
     "metadata": {},
     "output_type": "execute_result"
    }
   ],
   "source": [
    "arts[\"EndDate\"].unique()"
   ]
  },
  {
   "cell_type": "code",
   "execution_count": 98,
   "id": "4c3b1a80",
   "metadata": {},
   "outputs": [
    {
     "name": "stdout",
     "output_type": "stream",
     "text": [
      "<class 'pandas.core.frame.DataFrame'>\n",
      "RangeIndex: 16725 entries, 0 to 16724\n",
      "Data columns (total 8 columns):\n",
      " #   Column       Non-Null Count  Dtype  \n",
      "---  ------       --------------  -----  \n",
      " 0   Title        16724 non-null  object \n",
      " 1   Artist       16725 non-null  object \n",
      " 2   Nationality  16725 non-null  object \n",
      " 3   BeginDate    15786 non-null  float64\n",
      " 4   EndDate      10474 non-null  float64\n",
      " 5   Gender       16725 non-null  object \n",
      " 6   Date         16725 non-null  object \n",
      " 7   Department   16725 non-null  object \n",
      "dtypes: float64(2), object(6)\n",
      "memory usage: 1.0+ MB\n"
     ]
    }
   ],
   "source": [
    "arts.info()"
   ]
  },
  {
   "cell_type": "code",
   "execution_count": 99,
   "id": "e1c29b6d",
   "metadata": {},
   "outputs": [],
   "source": [
    "bad_chr = [\"(\", \")\", \"c\", \"C\", \".\", \"s\", \" \", \"'\"]"
   ]
  },
  {
   "cell_type": "code",
   "execution_count": 100,
   "id": "0fe6381e",
   "metadata": {},
   "outputs": [
    {
     "data": {
      "text/plain": [
       "8"
      ]
     },
     "execution_count": 100,
     "metadata": {},
     "output_type": "execute_result"
    }
   ],
   "source": [
    "len(bad_chr)"
   ]
  },
  {
   "cell_type": "code",
   "execution_count": 101,
   "id": "f18c8046",
   "metadata": {},
   "outputs": [],
   "source": [
    "date = \"(c. 1947's)\"\n",
    "\n",
    "for i in bad_chr:\n",
    "    date = date.replace(i, \"\")"
   ]
  },
  {
   "cell_type": "code",
   "execution_count": 102,
   "id": "1806af1d",
   "metadata": {},
   "outputs": [
    {
     "data": {
      "text/plain": [
       "'1947'"
      ]
     },
     "execution_count": 102,
     "metadata": {},
     "output_type": "execute_result"
    }
   ],
   "source": [
    "date"
   ]
  },
  {
   "cell_type": "code",
   "execution_count": 103,
   "id": "0f3aaf77",
   "metadata": {},
   "outputs": [],
   "source": [
    "def remove_bad_chr(date): # putting the above 2 cells into a function and then calling it\n",
    "    bad_chr = [\"(\", \")\", \"c\", \"C\", \".\", \"s\", \" \", \"'\"]\n",
    "    for i in bad_chr:\n",
    "        date = date.replace(i, \"\")\n",
    "    return date"
   ]
  },
  {
   "cell_type": "code",
   "execution_count": 104,
   "id": "29a076ff",
   "metadata": {},
   "outputs": [
    {
     "data": {
      "text/plain": [
       "'1947'"
      ]
     },
     "execution_count": 104,
     "metadata": {},
     "output_type": "execute_result"
    }
   ],
   "source": [
    "remove_bad_chr(date)"
   ]
  },
  {
   "cell_type": "code",
   "execution_count": 110,
   "id": "26bfbbd5",
   "metadata": {},
   "outputs": [
    {
     "data": {
      "text/plain": [
       "'1978'"
      ]
     },
     "execution_count": 110,
     "metadata": {},
     "output_type": "execute_result"
    }
   ],
   "source": [
    "remove_bad_chr(\"sc1978.'s\")"
   ]
  },
  {
   "cell_type": "code",
   "execution_count": 111,
   "id": "678f3bc9",
   "metadata": {},
   "outputs": [
    {
     "data": {
      "text/html": [
       "<div>\n",
       "<style scoped>\n",
       "    .dataframe tbody tr th:only-of-type {\n",
       "        vertical-align: middle;\n",
       "    }\n",
       "\n",
       "    .dataframe tbody tr th {\n",
       "        vertical-align: top;\n",
       "    }\n",
       "\n",
       "    .dataframe thead th {\n",
       "        text-align: right;\n",
       "    }\n",
       "</style>\n",
       "<table border=\"1\" class=\"dataframe\">\n",
       "  <thead>\n",
       "    <tr style=\"text-align: right;\">\n",
       "      <th></th>\n",
       "      <th>Title</th>\n",
       "      <th>Artist</th>\n",
       "      <th>Nationality</th>\n",
       "      <th>BeginDate</th>\n",
       "      <th>EndDate</th>\n",
       "      <th>Gender</th>\n",
       "      <th>Date</th>\n",
       "      <th>Department</th>\n",
       "    </tr>\n",
       "  </thead>\n",
       "  <tbody>\n",
       "    <tr>\n",
       "      <th>0</th>\n",
       "      <td>Dress MacLeod from Tartan Sets</td>\n",
       "      <td>Sarah Charlesworth</td>\n",
       "      <td>American</td>\n",
       "      <td>1947.0</td>\n",
       "      <td>2013.0</td>\n",
       "      <td>Female</td>\n",
       "      <td>1986</td>\n",
       "      <td>Prints &amp; Illustrated Books</td>\n",
       "    </tr>\n",
       "    <tr>\n",
       "      <th>1</th>\n",
       "      <td>Duplicate of plate from folio 11 verso (supple...</td>\n",
       "      <td>Pablo Palazuelo</td>\n",
       "      <td>Spanish</td>\n",
       "      <td>1916.0</td>\n",
       "      <td>2007.0</td>\n",
       "      <td>Male</td>\n",
       "      <td>1978</td>\n",
       "      <td>Prints &amp; Illustrated Books</td>\n",
       "    </tr>\n",
       "    <tr>\n",
       "      <th>2</th>\n",
       "      <td>Tailpiece (page 55) from SAGESSE</td>\n",
       "      <td>Maurice Denis</td>\n",
       "      <td>French</td>\n",
       "      <td>1870.0</td>\n",
       "      <td>1943.0</td>\n",
       "      <td>Male</td>\n",
       "      <td>1889-1911</td>\n",
       "      <td>Prints &amp; Illustrated Books</td>\n",
       "    </tr>\n",
       "    <tr>\n",
       "      <th>3</th>\n",
       "      <td>Headpiece (page 129) from LIVRET DE FOLASTRIES...</td>\n",
       "      <td>Aristide Maillol</td>\n",
       "      <td>French</td>\n",
       "      <td>1861.0</td>\n",
       "      <td>1944.0</td>\n",
       "      <td>Male</td>\n",
       "      <td>1927-1940</td>\n",
       "      <td>Prints &amp; Illustrated Books</td>\n",
       "    </tr>\n",
       "    <tr>\n",
       "      <th>4</th>\n",
       "      <td>97 rue du Bac</td>\n",
       "      <td>Eugène Atget</td>\n",
       "      <td>French</td>\n",
       "      <td>1857.0</td>\n",
       "      <td>1927.0</td>\n",
       "      <td>Male</td>\n",
       "      <td>1903</td>\n",
       "      <td>Photography</td>\n",
       "    </tr>\n",
       "  </tbody>\n",
       "</table>\n",
       "</div>"
      ],
      "text/plain": [
       "                                               Title              Artist  \\\n",
       "0                     Dress MacLeod from Tartan Sets  Sarah Charlesworth   \n",
       "1  Duplicate of plate from folio 11 verso (supple...     Pablo Palazuelo   \n",
       "2                   Tailpiece (page 55) from SAGESSE       Maurice Denis   \n",
       "3  Headpiece (page 129) from LIVRET DE FOLASTRIES...    Aristide Maillol   \n",
       "4                                      97 rue du Bac        Eugène Atget   \n",
       "\n",
       "  Nationality  BeginDate  EndDate  Gender       Date  \\\n",
       "0    American     1947.0   2013.0  Female       1986   \n",
       "1     Spanish     1916.0   2007.0    Male       1978   \n",
       "2      French     1870.0   1943.0    Male  1889-1911   \n",
       "3      French     1861.0   1944.0    Male  1927-1940   \n",
       "4      French     1857.0   1927.0    Male       1903   \n",
       "\n",
       "                   Department  \n",
       "0  Prints & Illustrated Books  \n",
       "1  Prints & Illustrated Books  \n",
       "2  Prints & Illustrated Books  \n",
       "3  Prints & Illustrated Books  \n",
       "4                 Photography  "
      ]
     },
     "execution_count": 111,
     "metadata": {},
     "output_type": "execute_result"
    }
   ],
   "source": [
    "arts.head()"
   ]
  },
  {
   "cell_type": "code",
   "execution_count": 112,
   "id": "29c32220",
   "metadata": {},
   "outputs": [
    {
     "data": {
      "text/plain": [
       "array(['1986', '1978', '1889-1911', ..., '1936-1938', '(c. 1955-1959)',\n",
       "       'c. 1919-1920'], dtype=object)"
      ]
     },
     "execution_count": 112,
     "metadata": {},
     "output_type": "execute_result"
    }
   ],
   "source": [
    "arts[\"Date\"].unique()"
   ]
  },
  {
   "cell_type": "code",
   "execution_count": 113,
   "id": "b78586a1",
   "metadata": {},
   "outputs": [
    {
     "data": {
      "text/plain": [
       "0             1986\n",
       "1             1978\n",
       "2        1889-1911\n",
       "3        1927-1940\n",
       "4             1903\n",
       "           ...    \n",
       "16720    1968-1969\n",
       "16721         1975\n",
       "16722         1922\n",
       "16723         1931\n",
       "16724         2011\n",
       "Name: Date, Length: 16725, dtype: object"
      ]
     },
     "execution_count": 113,
     "metadata": {},
     "output_type": "execute_result"
    }
   ],
   "source": [
    "arts[\"Date\"].apply(remove_bad_chr)"
   ]
  },
  {
   "cell_type": "code",
   "execution_count": 114,
   "id": "e439b581",
   "metadata": {},
   "outputs": [
    {
     "data": {
      "text/plain": [
       "array(['1986', '1978', '1889-1911', ..., '1936-1938', '(c. 1955-1959)',\n",
       "       'c. 1919-1920'], dtype=object)"
      ]
     },
     "execution_count": 114,
     "metadata": {},
     "output_type": "execute_result"
    }
   ],
   "source": [
    "arts[\"Date\"].unique()"
   ]
  },
  {
   "cell_type": "code",
   "execution_count": 115,
   "id": "bec6e64b",
   "metadata": {},
   "outputs": [],
   "source": [
    "arts[\"Date\"] = arts[\"Date\"].apply(remove_bad_chr)"
   ]
  },
  {
   "cell_type": "code",
   "execution_count": 116,
   "id": "c9753b72",
   "metadata": {},
   "outputs": [
    {
     "data": {
      "text/html": [
       "<div>\n",
       "<style scoped>\n",
       "    .dataframe tbody tr th:only-of-type {\n",
       "        vertical-align: middle;\n",
       "    }\n",
       "\n",
       "    .dataframe tbody tr th {\n",
       "        vertical-align: top;\n",
       "    }\n",
       "\n",
       "    .dataframe thead th {\n",
       "        text-align: right;\n",
       "    }\n",
       "</style>\n",
       "<table border=\"1\" class=\"dataframe\">\n",
       "  <thead>\n",
       "    <tr style=\"text-align: right;\">\n",
       "      <th></th>\n",
       "      <th>Title</th>\n",
       "      <th>Artist</th>\n",
       "      <th>Nationality</th>\n",
       "      <th>BeginDate</th>\n",
       "      <th>EndDate</th>\n",
       "      <th>Gender</th>\n",
       "      <th>Date</th>\n",
       "      <th>Department</th>\n",
       "    </tr>\n",
       "  </thead>\n",
       "  <tbody>\n",
       "    <tr>\n",
       "      <th>0</th>\n",
       "      <td>Dress MacLeod from Tartan Sets</td>\n",
       "      <td>Sarah Charlesworth</td>\n",
       "      <td>American</td>\n",
       "      <td>1947.0</td>\n",
       "      <td>2013.0</td>\n",
       "      <td>Female</td>\n",
       "      <td>1986</td>\n",
       "      <td>Prints &amp; Illustrated Books</td>\n",
       "    </tr>\n",
       "    <tr>\n",
       "      <th>1</th>\n",
       "      <td>Duplicate of plate from folio 11 verso (supple...</td>\n",
       "      <td>Pablo Palazuelo</td>\n",
       "      <td>Spanish</td>\n",
       "      <td>1916.0</td>\n",
       "      <td>2007.0</td>\n",
       "      <td>Male</td>\n",
       "      <td>1978</td>\n",
       "      <td>Prints &amp; Illustrated Books</td>\n",
       "    </tr>\n",
       "    <tr>\n",
       "      <th>2</th>\n",
       "      <td>Tailpiece (page 55) from SAGESSE</td>\n",
       "      <td>Maurice Denis</td>\n",
       "      <td>French</td>\n",
       "      <td>1870.0</td>\n",
       "      <td>1943.0</td>\n",
       "      <td>Male</td>\n",
       "      <td>1889-1911</td>\n",
       "      <td>Prints &amp; Illustrated Books</td>\n",
       "    </tr>\n",
       "    <tr>\n",
       "      <th>3</th>\n",
       "      <td>Headpiece (page 129) from LIVRET DE FOLASTRIES...</td>\n",
       "      <td>Aristide Maillol</td>\n",
       "      <td>French</td>\n",
       "      <td>1861.0</td>\n",
       "      <td>1944.0</td>\n",
       "      <td>Male</td>\n",
       "      <td>1927-1940</td>\n",
       "      <td>Prints &amp; Illustrated Books</td>\n",
       "    </tr>\n",
       "    <tr>\n",
       "      <th>4</th>\n",
       "      <td>97 rue du Bac</td>\n",
       "      <td>Eugène Atget</td>\n",
       "      <td>French</td>\n",
       "      <td>1857.0</td>\n",
       "      <td>1927.0</td>\n",
       "      <td>Male</td>\n",
       "      <td>1903</td>\n",
       "      <td>Photography</td>\n",
       "    </tr>\n",
       "    <tr>\n",
       "      <th>...</th>\n",
       "      <td>...</td>\n",
       "      <td>...</td>\n",
       "      <td>...</td>\n",
       "      <td>...</td>\n",
       "      <td>...</td>\n",
       "      <td>...</td>\n",
       "      <td>...</td>\n",
       "      <td>...</td>\n",
       "    </tr>\n",
       "    <tr>\n",
       "      <th>16720</th>\n",
       "      <td>Oval with Points</td>\n",
       "      <td>Henry Moore</td>\n",
       "      <td>British</td>\n",
       "      <td>1898.0</td>\n",
       "      <td>1986.0</td>\n",
       "      <td>Male</td>\n",
       "      <td>1968-1969</td>\n",
       "      <td>Painting &amp; Sculpture</td>\n",
       "    </tr>\n",
       "    <tr>\n",
       "      <th>16721</th>\n",
       "      <td>Cementerio de la Ciudad Abierta, Ritoque, Chile</td>\n",
       "      <td>Juan Baixas</td>\n",
       "      <td>Chilean</td>\n",
       "      <td>1942.0</td>\n",
       "      <td>NaN</td>\n",
       "      <td>Male</td>\n",
       "      <td>1975</td>\n",
       "      <td>Architecture &amp; Design</td>\n",
       "    </tr>\n",
       "    <tr>\n",
       "      <th>16722</th>\n",
       "      <td>The Catboat</td>\n",
       "      <td>Edward Hopper</td>\n",
       "      <td>American</td>\n",
       "      <td>1882.0</td>\n",
       "      <td>1967.0</td>\n",
       "      <td>Male</td>\n",
       "      <td>1922</td>\n",
       "      <td>Prints &amp; Illustrated Books</td>\n",
       "    </tr>\n",
       "    <tr>\n",
       "      <th>16723</th>\n",
       "      <td>Dognat' i peregnat' v tekhniko-ekonomicheskom ...</td>\n",
       "      <td>Unknown</td>\n",
       "      <td>Nationality Unkown</td>\n",
       "      <td>NaN</td>\n",
       "      <td>NaN</td>\n",
       "      <td>Gender Unknown</td>\n",
       "      <td>1931</td>\n",
       "      <td>Prints &amp; Illustrated Books</td>\n",
       "    </tr>\n",
       "    <tr>\n",
       "      <th>16724</th>\n",
       "      <td>Plate (page 11) from The Dive</td>\n",
       "      <td>Alex Katz</td>\n",
       "      <td>American</td>\n",
       "      <td>1927.0</td>\n",
       "      <td>NaN</td>\n",
       "      <td>Male</td>\n",
       "      <td>2011</td>\n",
       "      <td>Prints &amp; Illustrated Books</td>\n",
       "    </tr>\n",
       "  </tbody>\n",
       "</table>\n",
       "<p>16725 rows × 8 columns</p>\n",
       "</div>"
      ],
      "text/plain": [
       "                                                   Title              Artist  \\\n",
       "0                         Dress MacLeod from Tartan Sets  Sarah Charlesworth   \n",
       "1      Duplicate of plate from folio 11 verso (supple...     Pablo Palazuelo   \n",
       "2                       Tailpiece (page 55) from SAGESSE       Maurice Denis   \n",
       "3      Headpiece (page 129) from LIVRET DE FOLASTRIES...    Aristide Maillol   \n",
       "4                                          97 rue du Bac        Eugène Atget   \n",
       "...                                                  ...                 ...   \n",
       "16720                                   Oval with Points         Henry Moore   \n",
       "16721    Cementerio de la Ciudad Abierta, Ritoque, Chile         Juan Baixas   \n",
       "16722                                        The Catboat       Edward Hopper   \n",
       "16723  Dognat' i peregnat' v tekhniko-ekonomicheskom ...             Unknown   \n",
       "16724                      Plate (page 11) from The Dive           Alex Katz   \n",
       "\n",
       "              Nationality  BeginDate  EndDate          Gender       Date  \\\n",
       "0                American     1947.0   2013.0          Female       1986   \n",
       "1                 Spanish     1916.0   2007.0            Male       1978   \n",
       "2                  French     1870.0   1943.0            Male  1889-1911   \n",
       "3                  French     1861.0   1944.0            Male  1927-1940   \n",
       "4                  French     1857.0   1927.0            Male       1903   \n",
       "...                   ...        ...      ...             ...        ...   \n",
       "16720             British     1898.0   1986.0            Male  1968-1969   \n",
       "16721             Chilean     1942.0      NaN            Male       1975   \n",
       "16722            American     1882.0   1967.0            Male       1922   \n",
       "16723  Nationality Unkown        NaN      NaN  Gender Unknown       1931   \n",
       "16724            American     1927.0      NaN            Male       2011   \n",
       "\n",
       "                       Department  \n",
       "0      Prints & Illustrated Books  \n",
       "1      Prints & Illustrated Books  \n",
       "2      Prints & Illustrated Books  \n",
       "3      Prints & Illustrated Books  \n",
       "4                     Photography  \n",
       "...                           ...  \n",
       "16720        Painting & Sculpture  \n",
       "16721       Architecture & Design  \n",
       "16722  Prints & Illustrated Books  \n",
       "16723  Prints & Illustrated Books  \n",
       "16724  Prints & Illustrated Books  \n",
       "\n",
       "[16725 rows x 8 columns]"
      ]
     },
     "execution_count": 116,
     "metadata": {},
     "output_type": "execute_result"
    }
   ],
   "source": [
    "arts"
   ]
  },
  {
   "cell_type": "code",
   "execution_count": 117,
   "id": "c94cc3a0",
   "metadata": {},
   "outputs": [
    {
     "data": {
      "text/plain": [
       "array(['1986', '1978', '1889-1911', '1927-1940', '1903', '1957', '1924',\n",
       "       '1978-1983', '2001', '1941', '1949-1950', '1963', '1908-1911',\n",
       "       '1934', '1997', '1931-1933', '1972', '1967', '1923-1924', '1979',\n",
       "       '1925-1927', '1929', '1974', '1920-1930', '1915', '1912',\n",
       "       '1988-1990', '1925', '1980', '1964', '1968', '1969', '1953',\n",
       "       '1971', '1988', '1818', '2002', '1926', '1914', '1966', '1904',\n",
       "       '1949', '1981', '1970', '1923-1925', '1932', '1928', '1965',\n",
       "       '2003', '1971-1974', '1983', '1930', '1946', '1984', '2006',\n",
       "       '1885', '1942', '1913', '2015', '1987', '1947-1949', '1961',\n",
       "       '1916-1932', '1962', '1944', '1991', '1991-1994', '2008', '1975',\n",
       "       '1893', '1968-1969', '1964-1968', '1928-1939', '1955', '1955-1960',\n",
       "       '1922', '1914-1918', '2012', '1865', '1976', '1902', '2010',\n",
       "       '1875', '1948', '1990', '1958', '1921', '1950', '2004', '1973',\n",
       "       '1982', '1960', '1939', '1952', '2007', '1933-1947', '1995',\n",
       "       '1908', '1936', '2005', '1933', '1956', '1910', '1968-1977',\n",
       "       '1919-1920', '1923-1948', '1912-1926', '1905', '1918', '1907',\n",
       "       '1926-1946', '1999', '1936-1937', '2011', '1978-1979', '1951',\n",
       "       '1965-1966', '1923-1951', '1900-1910', '1992', '1931-1956', '1989',\n",
       "       '1927', '1940', '1900', '2013', '1899-1900', '1985-1986', '1998',\n",
       "       '2000', '1916', '2009', '1872-1927', '1913-1921', '1826-1896',\n",
       "       '1926-1938', '1962-1963', '1919', '1970-1971', '1959-1965', '1877',\n",
       "       '1921-1922', '1947-1955', '1881', '1953-1954', '1943-1981', '1994',\n",
       "       '1977', '1971-1973', '1955-1956', '1911-1950', '1920', '1946-1949',\n",
       "       '1947', '1946-1947', '1938', '1996', '1970-1972', '1943', '1935',\n",
       "       '1900-1953', '2008-2010', '1917', '1857', '1931', '1989-1990',\n",
       "       '1999-2001', '1962-1965', '1959', '1993', '1985', '1923',\n",
       "       '1930-1931', '1979-1984', '1938-1960', '1861', '1998-2003',\n",
       "       '1977-1978', '1997-2000', '1908-1950', '1945', '1906-1912',\n",
       "       '1975-1976', '1900-1943', '1951-1952', '1937-1938', '1898',\n",
       "       '1985-1990', '1911', '1914-1920', '1899', '1916-1923', '1937',\n",
       "       '1950-1953', '1954', '1893-1896', '1960-1963', '1950-1952', '1887',\n",
       "       '1873', '1939-1945', '1975-1986', '1860', '1901', '2013-2014',\n",
       "       '1954-1958', '1919-1921', '1946-1972', '1984-1985', '1858-1860',\n",
       "       '1939-1943', '1967-1968', '1893-1894', '1843-1847', '1944-1945',\n",
       "       '1909', '1992-2000', '1931-1937', '1998-2009', '1976-1977',\n",
       "       '1946-1948', '1927-1943', '1864-1865', '1969-1971', '1983-1984',\n",
       "       '2002-2003', '1967-1969', '2004-2005', '1927-1952', '1972-1973',\n",
       "       '1937-1939', '1954-1957', '1928-1930', '2004-2006', '2001-2003',\n",
       "       '1924-1926', '1970-1996', '2001-2008', '1874', '1905-1906',\n",
       "       '1939-1941', '1897', '1969-1970', '1911-1912', '2002-2005', '2014',\n",
       "       '1957-1990', '1983-1986', '1927-1937', '1871', '1948-1949',\n",
       "       '1967-1998', '1941-1948', '1930-1941', '1915-1919', '1964-1965',\n",
       "       '1895', '1967-1988', '1961-1965', '1888', '1968-1974', '1914-1958',\n",
       "       '1973-1974', '1925-1926', '1942-1948', '1975-1979', '1904-1905',\n",
       "       '1957-1961', '1960-1961', '1913-1942', '2016', '1948-1951',\n",
       "       '1982-1983', '1966-1967', '1966-1968', '1936-1942', '1979-1980',\n",
       "       '1947-1958', '1840', '1972-1975', '1941-1945', '1943-1947',\n",
       "       '1911-1931', '1934-1944', '1958-1964', '1979-1981', '1990-1992',\n",
       "       '1913-1923', '1932-1933', '1906-1907', '1989-1993', '2000-2001',\n",
       "       '1956-1957', '1868', '1942-1950', '1853-1860', '2003-2004',\n",
       "       '1965-1968', '1980-1981', '1985-1987', '1945-1946', '1985-1988',\n",
       "       '1963-1965', '1963-1964', '1865-1871', '1906', '1810-1863',\n",
       "       '1893-1903', '1900-1939', '1852', '1910-1911', '1974-1975', '1889',\n",
       "       '1971-1972', '1842-1850', '1896', '1920-1950', '1934-1935',\n",
       "       '1916-1941', '1854', '1944-1965', '1863', '1927-1930', '1896-1897',\n",
       "       '1894', '1938-1940', '1970-1973', '1902-1903', '1926-1927',\n",
       "       '1925-1929', '1980-1985', '1920-1923', '1919-1922', '1855',\n",
       "       '1983-1997', '1797-1799', '1946-1951', '1988-1995', '1943-1953',\n",
       "       '1859-1860', '1967-1972', '1926-1931', '1982-2006', '1990-1991',\n",
       "       '1929-1931', '1900-1949', '1974-1980', '1960-1965', '1998-2008',\n",
       "       '1919-1923', '1882', '1952-1953', '1964-1966', '1977-1980',\n",
       "       '1858-1941', '1888-1889', '1922-1926', '1966-1975', '1948-1950',\n",
       "       '1951-1955', '1968-1981', '2017', '1943-1959', '1989-1994',\n",
       "       '1995-2003', '1965-1967', '1898-1899', '1980-1996', '1850',\n",
       "       '1931-1932', '1891', '1922-1923', '1859', '1860-1870', '1933-1934',\n",
       "       '1950-1967', '2001-2004', '1916-1918', '1914-1917', '1900-1945',\n",
       "       '1920-1933', '1969-1972', '1932-1934', '1991-1992', '1978-1980',\n",
       "       '1915-1920', '1919-1925', '1861-1865', '1869', '1930-1940',\n",
       "       '1915-1922', '1920-1922', '1943-1950', '1940-1954', '1921-1923',\n",
       "       '1963-2003', '1961-1969', '1849-1851', '1939-1944', '1930-1932',\n",
       "       '1912-1927', '1942-1945', '1880-1900', '1876', '1920-1925',\n",
       "       '1908-1924', '1942-1946', '1967-1971', '1926-1936', '1969-1973',\n",
       "       '1929-1932', '1972-1974', '1934-1951', '1962-1975', '1927-1928',\n",
       "       '1884-1886', '1948-1968', '1983-1985', '1925-1966', '1918-1919',\n",
       "       '1920-1961', '1899-1927', '1908-1909', '2005-2006', '1895-1896',\n",
       "       '1935-1945', '1962-1966', '1950-1955', '1997-1998', '1890',\n",
       "       '1995-1999', '1907-1908', '1903-1904', '1919-1958', '1971-1975',\n",
       "       '1980-1984', '1944-1948', '1901-1902', '1951-1956', '1903-1906',\n",
       "       '1900-1950', '1998-1999', '2011-2012', '1973-1979', '2009-2011',\n",
       "       '1944-1953', '1914-1940', '1962-1964', '1945-1951', '1980-1983',\n",
       "       '2010-2011', '1924-1929', '1913-1914', '1957-1958', '1890-1896',\n",
       "       '1917-1918', '1920-1924', '1957-1960', '1928-1929', '1892',\n",
       "       '1975-1977', '1958-1987', '1906-1941', '1917-1919', '2001-2002',\n",
       "       '1978-1984', '1900-1944', '1947-1964', '1939-1940', '1940-1943',\n",
       "       '1853', '1904-1907', '1943-1972', '1981-1982', '1816-1904',\n",
       "       '1950-1951', '1996-2004', '1952-1968', '1935-1938', '1900-1936',\n",
       "       '1954-1955', '1982-1985', '1855-1856', '1900-1941', '1973-1976',\n",
       "       '1989-2003', '1961-1964', '1840-1851', '1927-1931', '1894-1961',\n",
       "       '1872', '1924-1927', '1938-1939', '1949-1982', '2005-2007',\n",
       "       '1896-1906', '1900-1959', '1973-1978', '1941-1960', '1904-1912',\n",
       "       '1900-1954', '1947-1948', '1999-2000', '1923-1952', '1939-1942',\n",
       "       '1910-1914', '2005-2008', '2002-2008', '1940-1941', '1950-1956',\n",
       "       '1855-1869', '1903-1908', '1933-1937', '1988-1989', '1905-1914',\n",
       "       '1945-1947', '1944-1947', '1931-1967', '1980-1906', '1995-2002',\n",
       "       '1962-1983', '1968-1972', '1929-1930', '1870-1879', '1916-1917',\n",
       "       '1966-1970', '1858', '1957-1965', '1938-1941', '1930-1933',\n",
       "       '1920-1968', '1922-1943', '1980-1987', '1936-1941', '1943-1945',\n",
       "       '1913-1918', '1805', '2018', '1959-1960', '1967-1975', '1895-1898',\n",
       "       '2003-2007', '1958-1959', '1959-1973', '1987-1988', '1867-1875',\n",
       "       '1856-1857', '1980-1982', '1981-1985', '1961-1962', '1811',\n",
       "       '1968-1970', '1960-1970', '2006-2008', '1958-1965', '1991-2012',\n",
       "       '2008-2009', '1851', '1974-1977', '1917-1945', '1960-1967',\n",
       "       '1880-1910', '1900-1964', '1825-1828', '1959-1962', '1938-1959',\n",
       "       '1883', '1912-1916', '1855-1860', '1926-1932', '1914-1915',\n",
       "       '1963-1971', '1915-1917', '2000-2003', '1994-1999', '1940-1955',\n",
       "       '1986-1987', '1925-1928', '1953-1957', '1937-1959', '1894-1896',\n",
       "       '2001-2007', '1945-1950', '1933-1935', '1996-1997', '1969-1974',\n",
       "       '1900-1901', '1920-1921', '2012-2013', '1853-1854', '1900-1952',\n",
       "       '1988-1992', '1922-1925', '1971-1978', '1837-1852', '1900-1967',\n",
       "       '1923-1977', '1910-1915', '1914-1953', '2008-2015', '1932-1966',\n",
       "       '1978-1981', '2006-2010', '1949-1953', '1890-1895', '1965-1980',\n",
       "       '1914-1916', '1860-1920', '1948-1981', '1871-1927', '1926-1930',\n",
       "       '1989-1991', '2007-2009', '1914-1925', '1998-2004', '1860-1926',\n",
       "       '1924-1925', '1990-1997', '1919-1959', '1941-1944', '1900-1937',\n",
       "       '1912-1914', '1994-1997', '1993-1994', '1900-1903', '1856',\n",
       "       '1976-1987', '1933-1946', '1933-1958', '1866-1902', '1914-1942',\n",
       "       '1952-1954', '1927-1929', '1912-1920', '1947-1953', '1992-1993',\n",
       "       '1935-1958', '1850-1855', '1998-2014', '1864', '1832', '1943-1944',\n",
       "       '1906-1909', '1987-1989', '1999-2002', '1957-1959', '1964-1967',\n",
       "       '1860-1869', '1973-1975', '1963-1966', '2007-2008', '1990-1994',\n",
       "       '1900-1947', '2003-2005', '1970-1988', '1855-1898', '1949-1951',\n",
       "       '1997-1999', '1986-1989', '1911-1914', '1960-1962', '1909-1910',\n",
       "       '1970-1982', '1852-1857', '1888-1895', '1900-1906', '1908-1951',\n",
       "       '1963-1967', '1900-1961', '1920-1929', '1982-1984', '1974-1984',\n",
       "       '1949-1963', '1982-1986', '1900-1958', '1967-1987', '1935-1959',\n",
       "       '1858-1870', '1981-1984', '1878-1884', '1923-1928', '1999-2003',\n",
       "       '1904-1921', '1900-1904', '1856-1858', '1979-1982', '1837',\n",
       "       '1865-1875', '1994-1996', '1940-1960', '1884', '1948-1952',\n",
       "       '1930-1935', '1987-1991', '1978-1988', '1866', '1878', '1997-2003',\n",
       "       '1925-1930', '1870', '1942-1944', '2003-2009', '1844', '1854-1857',\n",
       "       '1880', '1949-1952', '1920-1928', '1977-1979', '1932-1958',\n",
       "       '1900-1938', '1843-1848', '1989-2001', '1979-1983', '1895-1900',\n",
       "       '1989-1999', '1900-1965', '1849', '1961-1971', '1858-1866',\n",
       "       '1970-1975', '1959-1967', '1870-1880', '1959-1964', '1897-1902',\n",
       "       '1985-1989', '1869-1875', '1962-1968', '1976-1979', '1987-1992',\n",
       "       '1942-1943', '1935-1936', '1950-1960', '2006-2007', '1995-2007',\n",
       "       '1902-1904', '1926-1928', '1886', '1945-1948', '1936-1938',\n",
       "       '1955-1959'], dtype=object)"
      ]
     },
     "execution_count": 117,
     "metadata": {},
     "output_type": "execute_result"
    }
   ],
   "source": [
    "arts[\"Date\"].unique()"
   ]
  },
  {
   "cell_type": "code",
   "execution_count": 118,
   "id": "ca15749d",
   "metadata": {},
   "outputs": [
    {
     "data": {
      "text/plain": [
       "['1997', '2000']"
      ]
     },
     "execution_count": 118,
     "metadata": {},
     "output_type": "execute_result"
    }
   ],
   "source": [
    "new_date = \"1997-2000\"\n",
    "\n",
    "lst = new_date.split(\"-\")\n",
    "lst"
   ]
  },
  {
   "cell_type": "code",
   "execution_count": 120,
   "id": "010404bf",
   "metadata": {},
   "outputs": [],
   "source": [
    "year1 = lst[0]\n",
    "year2 = lst[1]"
   ]
  },
  {
   "cell_type": "code",
   "execution_count": 121,
   "id": "433505e3",
   "metadata": {},
   "outputs": [],
   "source": [
    "year1 = int(year1)\n",
    "year2= int(year2)\n",
    "\n",
    "new_year = (year1 + year2)/2"
   ]
  },
  {
   "cell_type": "code",
   "execution_count": 122,
   "id": "330898ad",
   "metadata": {},
   "outputs": [
    {
     "data": {
      "text/plain": [
       "1998.5"
      ]
     },
     "execution_count": 122,
     "metadata": {},
     "output_type": "execute_result"
    }
   ],
   "source": [
    "new_year"
   ]
  },
  {
   "cell_type": "code",
   "execution_count": 123,
   "id": "2df9ccb6",
   "metadata": {},
   "outputs": [
    {
     "data": {
      "text/plain": [
       "1998"
      ]
     },
     "execution_count": 123,
     "metadata": {},
     "output_type": "execute_result"
    }
   ],
   "source": [
    "round(new_year)"
   ]
  },
  {
   "cell_type": "code",
   "execution_count": 124,
   "id": "b4efa8f9",
   "metadata": {},
   "outputs": [
    {
     "data": {
      "text/plain": [
       "0             1986\n",
       "1             1978\n",
       "2        1889-1911\n",
       "3        1927-1940\n",
       "4             1903\n",
       "           ...    \n",
       "16720    1968-1969\n",
       "16721         1975\n",
       "16722         1922\n",
       "16723         1931\n",
       "16724         2011\n",
       "Name: Date, Length: 16725, dtype: object"
      ]
     },
     "execution_count": 124,
     "metadata": {},
     "output_type": "execute_result"
    }
   ],
   "source": [
    "arts[\"Date\"]"
   ]
  },
  {
   "cell_type": "code",
   "execution_count": 129,
   "id": "b7b01229",
   "metadata": {},
   "outputs": [],
   "source": [
    "def latest_date(date):\n",
    "    if \"-\" in date:\n",
    "        lst = new_date.split(\"-\")\n",
    "        year1 = int(lst[0])\n",
    "        year2 = int(lst[1])\n",
    "        date = round((year1 + year2)/2)\n",
    "    else:\n",
    "        date = int(date)\n",
    "    return date"
   ]
  },
  {
   "cell_type": "code",
   "execution_count": 130,
   "id": "cc6afc1c",
   "metadata": {},
   "outputs": [
    {
     "data": {
      "text/plain": [
       "1998"
      ]
     },
     "execution_count": 130,
     "metadata": {},
     "output_type": "execute_result"
    }
   ],
   "source": [
    "latest_date(\"1997-2000\")"
   ]
  },
  {
   "cell_type": "code",
   "execution_count": 131,
   "id": "c7e3f6a9",
   "metadata": {},
   "outputs": [
    {
     "data": {
      "text/plain": [
       "2000"
      ]
     },
     "execution_count": 131,
     "metadata": {},
     "output_type": "execute_result"
    }
   ],
   "source": [
    "latest_date(\"2000\")"
   ]
  },
  {
   "cell_type": "code",
   "execution_count": 132,
   "id": "3cef73b7",
   "metadata": {},
   "outputs": [
    {
     "name": "stdout",
     "output_type": "stream",
     "text": [
      "<class 'pandas.core.frame.DataFrame'>\n",
      "RangeIndex: 16725 entries, 0 to 16724\n",
      "Data columns (total 8 columns):\n",
      " #   Column       Non-Null Count  Dtype  \n",
      "---  ------       --------------  -----  \n",
      " 0   Title        16724 non-null  object \n",
      " 1   Artist       16725 non-null  object \n",
      " 2   Nationality  16725 non-null  object \n",
      " 3   BeginDate    15786 non-null  float64\n",
      " 4   EndDate      10474 non-null  float64\n",
      " 5   Gender       16725 non-null  object \n",
      " 6   Date         16725 non-null  object \n",
      " 7   Department   16725 non-null  object \n",
      "dtypes: float64(2), object(6)\n",
      "memory usage: 1.0+ MB\n"
     ]
    }
   ],
   "source": [
    "arts.info()"
   ]
  },
  {
   "cell_type": "code",
   "execution_count": 133,
   "id": "2a965258",
   "metadata": {},
   "outputs": [
    {
     "data": {
      "text/plain": [
       "0        1986\n",
       "1        1978\n",
       "2        1998\n",
       "3        1998\n",
       "4        1903\n",
       "         ... \n",
       "16720    1998\n",
       "16721    1975\n",
       "16722    1922\n",
       "16723    1931\n",
       "16724    2011\n",
       "Name: Date, Length: 16725, dtype: int64"
      ]
     },
     "execution_count": 133,
     "metadata": {},
     "output_type": "execute_result"
    }
   ],
   "source": [
    "arts[\"Date\"].apply(latest_date)"
   ]
  },
  {
   "cell_type": "code",
   "execution_count": 134,
   "id": "2416c349",
   "metadata": {},
   "outputs": [],
   "source": [
    "arts[\"Date\"] = arts[\"Date\"].apply(latest_date)"
   ]
  },
  {
   "cell_type": "code",
   "execution_count": 135,
   "id": "e5e03608",
   "metadata": {},
   "outputs": [],
   "source": [
    "arts.to_csv(\"cleaned_modern_arts.csv\")"
   ]
  }
 ],
 "metadata": {
  "kernelspec": {
   "display_name": "Python 3 (ipykernel)",
   "language": "python",
   "name": "python3"
  },
  "language_info": {
   "codemirror_mode": {
    "name": "ipython",
    "version": 3
   },
   "file_extension": ".py",
   "mimetype": "text/x-python",
   "name": "python",
   "nbconvert_exporter": "python",
   "pygments_lexer": "ipython3",
   "version": "3.10.9"
  }
 },
 "nbformat": 4,
 "nbformat_minor": 5
}
